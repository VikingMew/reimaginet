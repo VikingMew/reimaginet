{
 "cells": [
  {
   "cell_type": "markdown",
   "metadata": {},
   "source": [
    "# IPA to IMAGE model\n",
    "\n",
    "## Prerequisites\n",
    "\n",
    "In principle, this should work on a computer without a GPU. It will help if you have a lot of RAM.\n",
    "\n",
    "- Pull latest changes from https://github.com/gchrupala/reimaginet\n",
    "- Download http://grzegorz.chrupala.me/data/coco.zip and unzip it in the `reimaginet/data/coco directory`.\n",
    "  You should have the following files:\n",
    "  \n",
    "  - `dataset.json` - MSCOCO sentences\n",
    "  - `vgg_feats.mat` - MSCOCO image vectors\n",
    "  - `dataset.ipa.jsonl.gz`  - IPA transcriptions of MSCOCO sentences\n",
    "\n",
    "- Download http://grzegorz.chrupala.me/data/model-ipa.zip and put it in the examples directory (same as this notebook)"
   ]
  },
  {
   "cell_type": "code",
   "execution_count": 1,
   "metadata": {
    "collapsed": false
   },
   "outputs": [
    {
     "name": "stdout",
     "output_type": "stream",
     "text": [
      "Couldn't import dot_parser, loading of dot files will not be possible.\n"
     ]
    },
    {
     "name": "stderr",
     "output_type": "stream",
     "text": [
      "Using gpu device 0: Tesla K20m\n"
     ]
    }
   ],
   "source": [
    "import imaginet.task"
   ]
  },
  {
   "cell_type": "markdown",
   "metadata": {},
   "source": [
    "## Load the model\n",
    "\n",
    "(It will take a couple of minutes)"
   ]
  },
  {
   "cell_type": "code",
   "execution_count": 2,
   "metadata": {
    "collapsed": true
   },
   "outputs": [],
   "source": [
    "model = imaginet.task.load(path=\"model-ipa.zip\")"
   ]
  },
  {
   "cell_type": "markdown",
   "metadata": {},
   "source": [
    "## Symbol embeddings"
   ]
  },
  {
   "cell_type": "code",
   "execution_count": 3,
   "metadata": {
    "collapsed": false
   },
   "outputs": [
    {
     "name": "stdout",
     "output_type": "stream",
     "text": [
      "(49, 256)\n"
     ]
    }
   ],
   "source": [
    "emb = imaginet.task.embeddings(model)\n",
    "print(emb.shape)"
   ]
  },
  {
   "cell_type": "markdown",
   "metadata": {},
   "source": [
    "The table of IPA symbols corresponding to  the 49 dimensions "
   ]
  },
  {
   "cell_type": "code",
   "execution_count": 4,
   "metadata": {
    "collapsed": false
   },
   "outputs": [
    {
     "name": "stdout",
     "output_type": "stream",
     "text": [
      "<BEG> <END> <UNK> t ˈ u ː k æ s l e ɪ ŋ ə ɡ ˌ ɛ ð ɚ ɹ ɑ n p o ʊ z v a ʃ ɐ m ᵻ d i f j b ɔ h w ʒ ʌ ɾ θ ɜ ̃ r ʲ\n"
     ]
    }
   ],
   "source": [
    "symb = imaginet.task.symbols(model)\n",
    "print \" \".join(symb.values())"
   ]
  },
  {
   "cell_type": "markdown",
   "metadata": {},
   "source": [
    "Let's display the embeddings projected to 2D via PCA"
   ]
  },
  {
   "cell_type": "code",
   "execution_count": 5,
   "metadata": {
    "collapsed": false
   },
   "outputs": [
    {
     "name": "stdout",
     "output_type": "stream",
     "text": [
      "Populating the interactive namespace from numpy and matplotlib\n"
     ]
    }
   ],
   "source": [
    "%pylab inline\n",
    "from sklearn.decomposition import PCA\n",
    "pca = PCA(n_components=2)\n",
    "xy = pca.fit_transform(emb)"
   ]
  },
  {
   "cell_type": "code",
   "execution_count": 6,
   "metadata": {
    "collapsed": false
   },
   "outputs": [
    {
     "name": "stderr",
     "output_type": "stream",
     "text": [
      "/usr/local/lib/python2.7/dist-packages/matplotlib-1.4.3-py2.7-linux-x86_64.egg/matplotlib/collections.py:590: FutureWarning: elementwise comparison failed; returning scalar instead, but in the future will perform elementwise comparison\n",
      "  if self._edgecolors == str('face'):\n"
     ]
    },
    {
     "data": {
      "image/png": "[encoded data removed]",
      "text/plain": [
       "<matplotlib.figure.Figure at 0x7fd710a7a510>"
      ]
     },
     "metadata": {},
     "output_type": "display_data"
    }
   ],
   "source": [
    "pylab.rc('font', family='DejaVu Sans')\n",
    "pylab.figure(figsize=(8,8))\n",
    "pylab.scatter(xy[:,0], xy[:,1], alpha=0.1)\n",
    "for j,symb_j in symb.items():\n",
    "    pylab.text(xy[j,0], xy[j,1], symb_j)"
   ]
  },
  {
   "cell_type": "markdown",
   "metadata": {},
   "source": [
    "Seems mostly random..."
   ]
  },
  {
   "cell_type": "markdown",
   "metadata": {},
   "source": [
    "## Load MSCOCO validation data"
   ]
  },
  {
   "cell_type": "code",
   "execution_count": 7,
   "metadata": {
    "collapsed": false
   },
   "outputs": [],
   "source": [
    "from imaginet.data_provider import getDataProvider\n",
    "# Adjust the root to point to the directory above data\n",
    "prov = getDataProvider('coco', root=\"..\")"
   ]
  },
  {
   "cell_type": "code",
   "execution_count": 8,
   "metadata": {
    "collapsed": false
   },
   "outputs": [],
   "source": [
    "sents = list(prov.iterSentences(split='val'))"
   ]
  },
  {
   "cell_type": "code",
   "execution_count": 9,
   "metadata": {
    "collapsed": true
   },
   "outputs": [],
   "source": [
    "from imaginet.simple_data import phonemes\n",
    "sents_ipa = [ phonemes(sent) for sent in sents ]"
   ]
  },
  {
   "cell_type": "markdown",
   "metadata": {},
   "source": [
    "## Project sentences to state space"
   ]
  },
  {
   "cell_type": "code",
   "execution_count": 10,
   "metadata": {
    "collapsed": false
   },
   "outputs": [],
   "source": [
    "reps = imaginet.task.representation(model, sents_ipa)"
   ]
  },
  {
   "cell_type": "markdown",
   "metadata": {},
   "source": [
    "## Find similar sentences in state space\n",
    "\n",
    "Compute the pairwise cosine distance matrix."
   ]
  },
  {
   "cell_type": "code",
   "execution_count": 11,
   "metadata": {
    "collapsed": true
   },
   "outputs": [],
   "source": [
    "from scipy.spatial.distance import cdist\n",
    "distance = cdist(reps, reps, metric='cosine')"
   ]
  },
  {
   "cell_type": "markdown",
   "metadata": {},
   "source": [
    "### Display neighbors for a sentence"
   ]
  },
  {
   "cell_type": "code",
   "execution_count": 32,
   "metadata": {
    "collapsed": true
   },
   "outputs": [],
   "source": [
    "import numpy\n",
    "def neighbors(k, distance=distance):\n",
    "    nn =  numpy.argsort(distance[k,:])[1:5]\n",
    "    print sents[k]['raw'], ''.join(sents_ipa[k])\n",
    "    for n in nn:\n",
    "        print u\"✔\" if sents[n]['imgid']==sents[k]['imgid'] else u\"✘\", \\\n",
    "        sents[n]['raw'], ''.join(sents_ipa[n])"
   ]
  },
  {
   "cell_type": "code",
   "execution_count": 33,
   "metadata": {
    "collapsed": true
   },
   "outputs": [],
   "source": [
    "import random"
   ]
  },
  {
   "cell_type": "code",
   "execution_count": 34,
   "metadata": {
    "collapsed": false
   },
   "outputs": [
    {
     "name": "stdout",
     "output_type": "stream",
     "text": [
      "A young elephant holds its trunk up to its mouth. ɐjˈʌŋˈɛlɪfənthˈoʊldzɪtstɹˈʌŋkˌʌptʊɪtsmˈaʊθ\n",
      "✘ A couple of elephants touch their trunks together. ɐkˈʌpəlʌvˈɛlɪfəntstˈʌtʃðɛɹtɹˈʌŋkstəɡˈɛðɚ\n",
      "✘ A large  elephant feeding itself using its trunk  ɐlˈɑːɹdʒˈɛlɪfəntfˈiːdɪŋɪtsˈɛlfjˈuːzɪŋɪtstɹˈʌŋk\n",
      "✘ An adult elephant holding some grass with baby elephants nearby. ɐnɐdˈʌltˈɛlɪfənthˈoʊldɪŋsˌʌmɡɹˈæswɪðbˈeɪbiˈɛlɪfəntsnɪɹbˈaɪ\n",
      "✘ Elephants with long tusks greeting each other with their trunks ˈɛlɪfəntswɪðlˈɑːŋtˈʌsksɡɹˈiːɾɪŋˈiːtʃˈʌðɚwɪððɛɹtɹˈʌŋks\n",
      "\n",
      "a man riding a dirtbike on the beach ɐmˈænɹˈaɪdɪŋɐdˈɜːtbaɪkɑːnðəbˈiːtʃ\n",
      "✔ A man riding a dirt bike on top of a sandy beach. ɐmˈænɹˈaɪdɪŋɐdˈɜːtbˈaɪkˌɑːntˈɑːpəvəsˈændibˈiːtʃ\n",
      "✔ a man riding a dirt bike in the sand ɐmˈænɹˈaɪdɪŋɐdˈɜːtbˈaɪkɪnðəsˈænd\n",
      "✘ A man riding a dirt bike through a desert field. ɐmˈænɹˈaɪdɪŋɐdˈɜːtbˈaɪkθɹuːɐdˈɛsɚtfˈiːld\n",
      "✔ The dirt bike throws up sand while riding on a beach. ðədˈɜːtbˈaɪkθɹˈoʊzˌʌpsˈændwˌaɪlɹˈaɪdɪŋˌɑːnɐbˈiːtʃ\n",
      "\n",
      "A modern crisp motel room displays overhead eclectic art. ɐmˈɑːdɚnkɹˈɪspmoʊtˈɛlɹˈuːmdɪsplˈeɪzˌoʊvɚhˈɛdɪklˈɛktɪkˈɑːɹt\n",
      "✔ A bright hotel room has a throw that matches the artwork. ɐbɹˈaɪthoʊtˈɛlɹˈuːmhɐzɐθɹˈoʊðætmˈætʃᵻzðɪˈɑːɹtwɜːk\n",
      "✘ The nightstand of a hotel room holds an unused class and an ice bucket.  ðənˈaɪtstændəvəhoʊtˈɛlɹˈuːmhˈoʊldzɐnʌnjˈuːzdklˈæsændɐnˈaɪsbˈʌkɪt\n",
      "✘ A sparse room with a bed sitting in the corner. ɐspˈɑːɹsɹˈuːmwɪðɐbˈɛdsˈɪɾɪŋɪnðəkˈɔːɹnɚ\n",
      "✘ A bedroom that has a lamp on either side of the bed. ɐbˈɛdɹuːmðæthɐzɐlˈæmpˌɑːnˈiːðɚsˈaɪdʌvðəbˈɛd\n",
      "\n",
      "an umbrella is sat out on a sandy beach ɐnʌmbɹˈɛləɪzsˈætˈaʊtˌɑːnɐsˈændibˈiːtʃ\n",
      "✔ A umbrella that is standing in the sand at the beach. ɐʌmbɹˈɛləðætɪzstˈændɪŋɪnðəsˈændætðəbˈiːtʃ\n",
      "✘ A green umbrella sitting on top of a sandy beach. ɐɡɹˈiːnʌmbɹˈɛləsˈɪɾɪŋˌɑːntˈɑːpəvəsˈændibˈiːtʃ\n",
      "✔ an umbrella set up on a beach in the sun ɐnʌmbɹˈɛləsˈɛtˌʌpˌɑːnɐbˈiːtʃɪnðəsˈʌn\n",
      "✘ An umbrella provides shade on a beach in front of the water. ɐnʌmbɹˈɛləpɹəvˈaɪdzʃˈeɪdˌɑːnɐbˈiːtʃɪnfɹˈʌntʌvðəwˈɔːɾɚ\n",
      "\n",
      "There is a plate with one cream puff on the table. ðɛɹɪzɐplˈeɪtwɪðwˈʌnkɹˈiːmpˈʌfɑːnðətˈeɪbəl\n",
      "✘ A white plate topped with two pieces of food. ɐwˈaɪtplˈeɪttˈɑːptwɪðtˈuːpˈiːsᵻzʌvfˈuːd\n",
      "✘ A white plate with a serving of food on it ɐwˈaɪtplˈeɪtwɪðɐsˈɜːvɪŋʌvfˈuːdˈɑːnɪt\n",
      "✘ A white plate with a serving of food on it ɐwˈaɪtplˈeɪtwɪðɐsˈɜːvɪŋʌvfˈuːdˈɑːnɪt\n",
      "✘ The plate full of food is sitting on the table. ðəplˈeɪtfˈʊlʌvfˈuːdɪzsˈɪɾɪŋɑːnðətˈeɪbəl\n",
      "\n",
      "Two zebras are standing next to each other with their noses touching. tˈuːzˈiːbɹəzɑːɹstˈændɪŋnˈɛksttʊˈiːtʃˈʌðɚwɪððɛɹnˈoʊzᵻztˈʌtʃɪŋ\n",
      "✘ There are two zebras standing next to each other. ðɛɹˌɑːɹtˈuːzˈiːbɹəzstˈændɪŋnˈɛksttʊˈiːtʃˈʌðɚ\n",
      "✘ Two zebras that are standing right next to one another. tˈuːzˈiːbɹəzðætɑːɹstˈændɪŋɹˈaɪtnˈɛksttəwˈʌnɐnˈʌðɚ\n",
      "✘ There are two zebras playing with each other ðɛɹˌɑːɹtˈuːzˈiːbɹəzplˈeɪɪŋwɪðˈiːtʃˈʌðɚ\n",
      "✘ This is two zebras nuzzling each other's faces. ðɪsɪztˈuːzˈiːbɹəznˈʌzlɪŋˈiːtʃˈʌðɚzfˈeɪsᵻz\n",
      "\n",
      "A baseball catcher kneels while throwing a ball. ɐbˈeɪsbɔːlkˈætʃɚnˈiːlzwˌaɪlθɹˈoʊɪŋɐbˈɔːl\n",
      "✘ a baseball player is throwing a ball to someone on a different base\n",
      "ɐbˈeɪsbɔːlplˈeɪɚɹɪzθɹˈoʊɪŋɐbˈɔːltəsˈʌmwʌnˌɑːnɐdˈɪfɹəntbˈeɪs\n",
      "✘ The baseball player is trying to throw the ball.  ðəbˈeɪsbɔːlplˈeɪɚɹɪztɹˈaɪɪŋtəθɹˈoʊðəbˈɔːl\n",
      "✔ A catcher kneeling on the field throwing the baseball back to the pitcher.  ɐkˈætʃɚnˈiːlɪŋɑːnðəfˈiːldθɹˈoʊɪŋðəbˈeɪsbɔːlbˈæktəðəpˈɪtʃɚ\n",
      "✘ A man leans down while wearing baseball catcher gear. ɐmˈænlˈiːnzdˌaʊnwˌaɪlwˈɛɹɪŋbˈeɪsbɔːlkˈætʃɚɡˈɪɹ\n",
      "\n",
      "Two young men one old enjoying a meal at a restaurant  tˈuːjˈʌŋmˈɛnwˈʌnˈoʊldɛndʒˈɔɪɪŋɐmˈiːlæɾɚɹˈɛstɹɑːnt\n",
      "✘ Two women getting food and drink to eat. tˈuːwˈɪmɪnɡˌɛɾɪŋfˈuːdænddɹˈɪŋktʊˈiːt\n",
      "✘ A man looks on as he finishes his meal ɐmˈænlˈʊksˌɑːnæzhiːfˈɪnɪʃᵻzhɪzmˈiːl\n",
      "✘ two men sitting at a table with different food items tˈuːmˈɛnsˈɪɾɪŋæɾətˈeɪbəlwɪðdˈɪfɹəntfˈuːdˈaɪɾəmz\n",
      "✘ Some people that are eating some food together. sˌʌmpˈiːpəlðætɑːɹˈiːɾɪŋsˌʌmfˈuːdtəɡˈɛðɚ\n",
      "\n",
      "a group of people with zombie costumes on  ɐɡɹˈuːpʌvpˈiːpəlwɪðzˈɑːmbikˈɔstuːmzˈɑːn\n",
      "✘ A bunch of people gather with cameras an video recorders. The man is taking a picture with his phone. ɐbˈʌntʃʌvpˈiːpəlɡˈæðɚwɪðkˈæmɹəzɐnvˈɪdɪˌoʊɹɪkˈoːɹdɚzðəmˈænɪztˈeɪkɪŋɐpˈɪktʃɚwɪðhɪzfˈoʊn\n",
      "✘ A group of pilots standing next to each other. ɐɡɹˈuːpʌvpˈaɪlətsstˈændɪŋnˈɛksttʊˈiːtʃˈʌðɚ\n",
      "✘ The president of the United States pointing behind him during a speech. ðəpɹˈɛzɪdəntʌvðəjuːnˈaɪɾᵻdstˈeɪtspˈɔɪntɪŋbɪhˌaɪndhˌɪmdˈʊɹɪŋɐspˈiːtʃ\n",
      "✘ These two men are dressed in costumes for their play.  ðiːztˈuːmˈɛnɑːɹdɹˈɛstɪnkˈɔstuːmzfɔːɹðɛɹplˈeɪ\n",
      "\n",
      "A cake decorated to look like a sandy beach and the ocean with a toy surfing and toy palm trees on a table.  ɐkˈeɪkdˈɛkɚɹˌeɪɾᵻdtəlˈʊklˈaɪkɐsˈændibˈiːtʃændðɪˈoʊʃənwɪðɐtˈɔɪsˈɜːfɪŋændtˈɔɪpˈɑːmtɹˈiːzˌɑːnɐtˈeɪbəl\n",
      "✘ A cake decorated with a blue ribbon sits in the middle of treats on a table. ɐkˈeɪkdˈɛkɚɹˌeɪɾᵻdwɪðɐblˈuːɹˈɪbənsˈɪtsɪnðəmˈɪdəlʌvtɹˈiːtsˌɑːnɐtˈeɪbəl\n",
      "✔ A cake that has a surfer and palm trees on it. ɐkˈeɪkðæthɐzɐsˈɜːfɚændpˈɑːmtɹˈiːzˈɑːnɪt\n",
      "✘ A decorated cake and a baseball cap on display on a table. ɐdˈɛkɚɹˌeɪɾᵻdkˈeɪkændɐbˈeɪsbɔːlkˈæpˌɑːndɪsplˈeɪˌɑːnɐtˈeɪbəl\n",
      "✘ A heart shaped cake with a pair of dove decorations sitting on top. ɐhˈɑːɹtʃˈeɪptkˈeɪkwɪðɐpˈɛɹʌvdˈʌvdˌɛkɚɹˈeɪʃənzsˈɪɾɪŋˌɑːntˈɑːp\n",
      "\n"
     ]
    }
   ],
   "source": [
    "for _ in range(10):\n",
    "    neighbors(random.randint(0, len(sents)))\n",
    "    print"
   ]
  },
  {
   "cell_type": "code",
   "execution_count": null,
   "metadata": {
    "collapsed": true
   },
   "outputs": [],
   "source": []
  }
 ],
 "metadata": {
  "kernelspec": {
   "display_name": "Python 2",
   "language": "python",
   "name": "python2"
  },
  "language_info": {
   "codemirror_mode": {
    "name": "ipython",
    "version": 2
   },
   "file_extension": ".py",
   "mimetype": "text/x-python",
   "name": "python",
   "nbconvert_exporter": "python",
   "pygments_lexer": "ipython2",
   "version": "2.7.9"
  }
 },
 "nbformat": 4,
 "nbformat_minor": 0
}
