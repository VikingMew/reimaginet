{
 "metadata": {
  "name": "",
  "signature": "sha256:9f527f9f3dd743a7d8ce326186b1d3a0b29bce4056e1826c17a7402f2a387149"
 },
 "nbformat": 3,
 "nbformat_minor": 0,
 "worksheets": [
  {
   "cells": [
    {
     "cell_type": "code",
     "collapsed": false,
     "input": [
      "import numpy\n",
      "import imaginet.task as task\n",
      "import imaginet.defn.audiovis_rhn as audiovis\n",
      "import imaginet.defn.visual2_rhn as vis2"
     ],
     "language": "python",
     "metadata": {},
     "outputs": [
      {
       "output_type": "stream",
       "stream": "stderr",
       "text": [
        "Using gpu device 2: GeForce GTX 980 Ti (CNMeM is disabled, cuDNN 5005)\n"
       ]
      }
     ],
     "prompt_number": 1
    },
    {
     "cell_type": "code",
     "collapsed": false,
     "input": [
      "import imaginet.vendrov_provider as dp\n",
      "prov = dp.getDataProvider(dataset='coco', root='/home/gchrupala/reimaginet/')\n",
      "sent = list(prov.iterSentences(split='val'))"
     ],
     "language": "python",
     "metadata": {},
     "outputs": [],
     "prompt_number": 2
    },
    {
     "cell_type": "code",
     "collapsed": false,
     "input": [
      "model_s = task.load(\"/home/gchrupala/reimaginet/run-rhn-coco-9-resume/model.r.e9.zip\")\n",
      "model_w = task.load(\"/home/gchrupala/reimaginet/run-rhn-coco-word-4/model.r.e14.zip\")"
     ],
     "language": "python",
     "metadata": {},
     "outputs": [],
     "prompt_number": 3
    },
    {
     "cell_type": "code",
     "collapsed": false,
     "input": [
      "from imaginet.simple_data import words\n",
      "data_w = [ words(senti) for senti in sent]\n",
      "embeddings_w = vis2.encode_sentences(model_w, data_w)"
     ],
     "language": "python",
     "metadata": {},
     "outputs": [],
     "prompt_number": 4
    },
    {
     "cell_type": "code",
     "collapsed": false,
     "input": [
      "data_s = [ numpy.asarray(senti['audio'], dtype='float32') for senti in sent ]\n",
      "embeddings_s = audiovis.encode_sentences(model_s, data_s)"
     ],
     "language": "python",
     "metadata": {},
     "outputs": [],
     "prompt_number": 5
    },
    {
     "cell_type": "code",
     "collapsed": false,
     "input": [
      "from scipy.spatial.distance import cdist\n",
      "from scipy.stats import spearmanr, pearsonr"
     ],
     "language": "python",
     "metadata": {},
     "outputs": [],
     "prompt_number": 15
    },
    {
     "cell_type": "code",
     "collapsed": false,
     "input": [
      "#D_s = cdist(embeddings_s, embeddings_s)\n",
      "#D_w = cdist(embeddings_w, embeddings_w, metric='cosine')"
     ],
     "language": "python",
     "metadata": {},
     "outputs": [],
     "prompt_number": 16
    },
    {
     "cell_type": "code",
     "collapsed": false,
     "input": [
      "from imaginet.evaluate import Cdist\n",
      "J = 5000\n",
      "dist = Cdist()\n",
      "rhos = []\n",
      "D_w = dist(embeddings_w[:J], embeddings_w[:J]).reshape((J*J))\n",
      "for layer in range(5):\n",
      "    states = numpy.vstack([ x[:,layer,:].mean(axis=0) for x in audiovis.layer_states(model_s, data_s[:J]) ])\n",
      "    D_s = dist(states, states).reshape((J*J))\n",
      "    rho = (spearmanr(D_w, D_s), pearsonr(D_w, D_s))\n",
      "    rhos.append(rho)\n",
      "    print rho"
     ],
     "language": "python",
     "metadata": {},
     "outputs": [
      {
       "output_type": "stream",
       "stream": "stdout",
       "text": [
        "(SpearmanrResult(correlation=0.064401741222886805, pvalue=0.0), (0.13295509, 0.0))\n",
        "(SpearmanrResult(correlation=0.11410839036274273, pvalue=0.0), (0.23784396, 0.0))"
       ]
      },
      {
       "output_type": "stream",
       "stream": "stdout",
       "text": [
        "\n",
        "(SpearmanrResult(correlation=0.17646973298389551, pvalue=0.0), (0.3488763, 0.0))"
       ]
      },
      {
       "output_type": "stream",
       "stream": "stdout",
       "text": [
        "\n",
        "(SpearmanrResult(correlation=0.25259811041557806, pvalue=0.0), (0.45765153, 0.0))"
       ]
      },
      {
       "output_type": "stream",
       "stream": "stdout",
       "text": [
        "\n",
        "(SpearmanrResult(correlation=0.35847645435044673, pvalue=0.0), (0.53315455, 0.0))"
       ]
      },
      {
       "output_type": "stream",
       "stream": "stdout",
       "text": [
        "\n"
       ]
      }
     ],
     "prompt_number": 17
    },
    {
     "cell_type": "code",
     "collapsed": false,
     "input": [],
     "language": "python",
     "metadata": {},
     "outputs": []
    }
   ],
   "metadata": {}
  }
 ]
}