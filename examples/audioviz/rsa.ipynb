{
 "metadata": {
  "name": "",
  "signature": "sha256:1aa7520767a25becf83a69dc5d966fc0a75db3827eff04bb16d4377473ca91fe"
 },
 "nbformat": 3,
 "nbformat_minor": 0,
 "worksheets": [
  {
   "cells": [
    {
     "cell_type": "code",
     "collapsed": false,
     "input": [
      "import numpy\n",
      "import imaginet.task as task\n",
      "import imaginet.defn.audiovis_rhn as audiovis\n",
      "import imaginet.defn.visual2_rhn as vis2"
     ],
     "language": "python",
     "metadata": {},
     "outputs": [
      {
       "output_type": "stream",
       "stream": "stderr",
       "text": [
        "Using gpu device 2: GeForce GTX 980 Ti (CNMeM is disabled, cuDNN 5005)\n"
       ]
      }
     ],
     "prompt_number": 1
    },
    {
     "cell_type": "code",
     "collapsed": false,
     "input": [
      "import imaginet.vendrov_provider as dp\n",
      "prov = dp.getDataProvider(dataset='coco', root='/home/gchrupala/reimaginet/')\n",
      "sent = list(prov.iterSentences(split='val'))"
     ],
     "language": "python",
     "metadata": {},
     "outputs": [],
     "prompt_number": 2
    },
    {
     "cell_type": "code",
     "collapsed": false,
     "input": [
      "model_s = task.load(\"/home/gchrupala/reimaginet/run-rhn-coco-9-resume/model.r.e9.zip\")"
     ],
     "language": "python",
     "metadata": {},
     "outputs": []
    },
    {
     "cell_type": "code",
     "collapsed": false,
     "input": [
      "model_w = task.load(\"/home/gchrupala/reimaginet/run-rhn-coco-word-2/model.r.e14.zip\")"
     ],
     "language": "python",
     "metadata": {},
     "outputs": [],
     "prompt_number": 3
    },
    {
     "cell_type": "code",
     "collapsed": false,
     "input": [
      "from imaginet.simple_data import words\n",
      "data_w = [ words(senti) for senti in sent]\n",
      "embeddings_w = vis2.encode_sentences(model_w, data_w)\n",
      "data_s = [ numpy.asarray(senti['audio'], dtype='float32') for senti in sent ]\n",
      "embeddings_s = audiovis.encode_sentences(model_s, data_s)"
     ],
     "language": "python",
     "metadata": {},
     "outputs": [],
     "prompt_number": 4
    },
    {
     "cell_type": "code",
     "collapsed": false,
     "input": [
      "from scipy.spatial.distance import cdist\n",
      "from scipy.stats import spearmanr, pearsonr"
     ],
     "language": "python",
     "metadata": {},
     "outputs": [],
     "prompt_number": 6
    },
    {
     "cell_type": "code",
     "collapsed": false,
     "input": [
      "#D_s = cdist(embeddings_s, embeddings_s)\n",
      "#D_w = cdist(embeddings_w, embeddings_w, metric='cosine')"
     ],
     "language": "python",
     "metadata": {},
     "outputs": [],
     "prompt_number": 7
    },
    {
     "cell_type": "code",
     "collapsed": false,
     "input": [
      "data_s[1].shape"
     ],
     "language": "python",
     "metadata": {},
     "outputs": [
      {
       "metadata": {},
       "output_type": "pyout",
       "prompt_number": 18,
       "text": [
        "(383, 13)"
       ]
      }
     ],
     "prompt_number": 18
    },
    {
     "cell_type": "code",
     "collapsed": false,
     "input": [
      "from imaginet.evaluate import Cdist\n",
      "numpy.random.seed(123)\n",
      "J = numpy.random.choice(len(embeddings_w), 1000)\n",
      "K = numpy.random.choice(len(embeddings_w), 1000)\n",
      "dist = Cdist()\n",
      "rhos = []\n",
      "D_w = dist(embeddings_w[J], embeddings_w[K]).flatten()\n",
      "for layer in range(5):\n",
      "    states_J = numpy.vstack([ x[:,layer,:].mean(axis=0) \n",
      "                             for x in audiovis.layer_states(model_s, [ data_s[j] for j in J ])])\n",
      "    states_K = numpy.vstack([ x[:,layer,:].mean(axis=0) \n",
      "                             for x in audiovis.layer_states(model_s, [ data_s[k] for k in K ])])\n",
      "    D_s = dist(states_J, states_K).flatten()\n",
      "    rho = pearsonr(D_w, D_s)\n",
      "    rhos.append(rho)\n",
      "    print rho\n",
      "D_s = dist(embeddings_s[J], embeddings_s[K]).flatten()\n",
      "rho = pearsonr(D_w, D_s)\n",
      "rhos.append(rho)\n",
      "print rho\n"
     ],
     "language": "python",
     "metadata": {},
     "outputs": [
      {
       "output_type": "stream",
       "stream": "stdout",
       "text": [
        "(0.11358234, 0.0)\n",
        "(0.21255182, 0.0)"
       ]
      },
      {
       "output_type": "stream",
       "stream": "stdout",
       "text": [
        "\n",
        "(0.32369265, 0.0)"
       ]
      },
      {
       "output_type": "stream",
       "stream": "stdout",
       "text": [
        "\n",
        "(0.43593171, 0.0)"
       ]
      },
      {
       "output_type": "stream",
       "stream": "stdout",
       "text": [
        "\n",
        "(0.52159578, 0.0)"
       ]
      },
      {
       "output_type": "stream",
       "stream": "stdout",
       "text": [
        "\n",
        "(0.63199985, 0.0)\n"
       ]
      }
     ],
     "prompt_number": 22
    },
    {
     "cell_type": "code",
     "collapsed": false,
     "input": [
      "model_w = task.load(\"/home/gchrupala/reimaginet/run-rhn-flickr8k-word-2/model.r.e19.zip\")"
     ],
     "language": "python",
     "metadata": {},
     "outputs": [],
     "prompt_number": 24
    },
    {
     "cell_type": "code",
     "collapsed": false,
     "input": [
      "model_s = task.load(\"/home/gchrupala/reimaginet/run-rhn-human-11/model.r.e24.zip\")"
     ],
     "language": "python",
     "metadata": {},
     "outputs": [],
     "prompt_number": 25
    },
    {
     "cell_type": "code",
     "collapsed": false,
     "input": [
      "import imaginet.data_provider as dp\n",
      "prov = dp.getDataProvider(dataset='flickr8k', root='/home/gchrupala/reimaginet/', audio_kind=\"human.max1K.accel3.ord.mfcc\")\n",
      "sent = list(prov.iterSentences(split='val'))"
     ],
     "language": "python",
     "metadata": {},
     "outputs": [
      {
       "output_type": "stream",
       "stream": "stderr",
       "text": [
        "Could not read file /home/gchrupala/reimaginet/data/flickr8k/dataset.ipa.jsonl.gz: IPA transcription not available\n"
       ]
      }
     ],
     "prompt_number": 27
    },
    {
     "cell_type": "code",
     "collapsed": false,
     "input": [
      "from imaginet.simple_data import words\n",
      "data_w = [ words(senti) for senti in sent]\n",
      "embeddings_w = vis2.encode_sentences(model_w, data_w)\n",
      "data_s = [ numpy.asarray(senti['audio'], dtype='float32') for senti in sent ]\n",
      "embeddings_s = audiovis.encode_sentences(model_s, data_s)"
     ],
     "language": "python",
     "metadata": {},
     "outputs": [],
     "prompt_number": 28
    },
    {
     "cell_type": "code",
     "collapsed": false,
     "input": [
      "from imaginet.evaluate import Cdist\n",
      "numpy.random.seed(123)\n",
      "J = numpy.random.choice(len(embeddings_w), 1000)\n",
      "K = numpy.random.choice(len(embeddings_w), 1000)\n",
      "dist = Cdist()\n",
      "rhos = []\n",
      "D_w = dist(embeddings_w[J], embeddings_w[K]).flatten()\n",
      "for layer in range(4):\n",
      "    states_J = numpy.vstack([ x[:,layer,:].mean(axis=0) \n",
      "                             for x in audiovis.layer_states(model_s, [ data_s[j] for j in J ])])\n",
      "    states_K = numpy.vstack([ x[:,layer,:].mean(axis=0) \n",
      "                             for x in audiovis.layer_states(model_s, [ data_s[k] for k in K ])])\n",
      "    D_s = dist(states_J, states_K).flatten()\n",
      "    rho = pearsonr(D_w, D_s)\n",
      "    rhos.append(rho)\n",
      "    print rho\n",
      "D_s = dist(embeddings_s[J], embeddings_s[K]).flatten()\n",
      "rho = pearsonr(D_w, D_s)\n",
      "rhos.append(rho)\n",
      "print rho\n"
     ],
     "language": "python",
     "metadata": {},
     "outputs": [
      {
       "output_type": "stream",
       "stream": "stdout",
       "text": [
        "(0.043831281, 0.0)\n",
        "(0.10815942, 0.0)"
       ]
      },
      {
       "output_type": "stream",
       "stream": "stdout",
       "text": [
        "\n",
        "(0.15827923, 0.0)"
       ]
      },
      {
       "output_type": "stream",
       "stream": "stdout",
       "text": [
        "\n",
        "(0.16111711, 0.0)"
       ]
      },
      {
       "output_type": "stream",
       "stream": "stdout",
       "text": [
        "\n",
        "(0.36036298, 0.0)\n"
       ]
      }
     ],
     "prompt_number": 30
    },
    {
     "cell_type": "code",
     "collapsed": false,
     "input": [],
     "language": "python",
     "metadata": {},
     "outputs": []
    }
   ],
   "metadata": {}
  }
 ]
}