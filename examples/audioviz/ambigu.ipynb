{
 "metadata": {
  "name": "",
  "signature": "sha256:a0db785a5339d1bf8d1e3597a64e213e1c21c50cc14273f8cca5239f42aa4583"
 },
 "nbformat": 3,
 "nbformat_minor": 0,
 "worksheets": [
  {
   "cells": [
    {
     "cell_type": "code",
     "collapsed": false,
     "input": [
      "import imaginet.vendrov_provider as dp\n",
      "import json"
     ],
     "language": "python",
     "metadata": {},
     "outputs": [],
     "prompt_number": 1
    },
    {
     "cell_type": "code",
     "collapsed": false,
     "input": [
      "prov = dp.getDataProvider(dataset='coco', root='/home/gchrupala/reimaginet/')"
     ],
     "language": "python",
     "metadata": {},
     "outputs": [],
     "prompt_number": 2
    },
    {
     "cell_type": "markdown",
     "metadata": {},
     "source": [
      "## Generate IPA transcriptions for COCO words"
     ]
    },
    {
     "cell_type": "code",
     "collapsed": false,
     "input": [
      "from collections import  Counter\n",
      "def vocabulary(prov):\n",
      "    sent_t = prov.iterSentences(split='train')\n",
      "    sent_v = prov.iterSentences(split='val')\n",
      "    V = Counter()\n",
      "    for S in [sent_t, sent_v]:\n",
      "        for utt in S:\n",
      "            V.update(utt['tokens'])\n",
      "    return V"
     ],
     "language": "python",
     "metadata": {},
     "outputs": [],
     "prompt_number": 3
    },
    {
     "cell_type": "code",
     "collapsed": false,
     "input": [
      "Voc = vocabulary(prov)"
     ],
     "language": "python",
     "metadata": {},
     "outputs": [],
     "prompt_number": 4
    },
    {
     "cell_type": "markdown",
     "metadata": {},
     "source": [
      "```\n",
      "import codecs\n",
      "    \n",
      "# Write vocabulary file\n",
      "with open(\"/home/gchrupala/reimaginet/data/coco/vocab.txt\", \"w\") as f:\n",
      "    for word in Voc:\n",
      "        f.write(word)\n",
      "        f.write(\"\\n\\n\")\n",
      "\n",
      "# Pass through espeak        \n",
      "raw = subprocess.check_output(['espeak', '-q', '--ipa=3', '-v', 'en-us', '-f', \"/home/gchrupala/reimaginet/data/coco/vocab.txt\"])\n",
      "pron = [ ''.join(ttp.clean_phonemes(line.strip())) for line in raw.split(\"\\n\")][:-1]\n",
      "\n",
      "# Write IPA file\n",
      "mapping = dict(zip(Voc.keys(), pron))\n",
      "with open(\"/home/gchrupala/reimaginet/data/coco/vocab.ipa.json\", \"w\") as f:\n",
      "    json.dump(mapping, f)\n",
      "```    "
     ]
    },
    {
     "cell_type": "code",
     "collapsed": false,
     "input": [
      "mapping = json.load(open(\"/home/gchrupala/reimaginet/data/coco/vocab.ipa.json\"))"
     ],
     "language": "python",
     "metadata": {},
     "outputs": [],
     "prompt_number": 5
    },
    {
     "cell_type": "markdown",
     "metadata": {},
     "source": [
      "## Find homophones"
     ]
    },
    {
     "cell_type": "code",
     "collapsed": false,
     "input": [
      "def invert(d):\n",
      "    i = {}\n",
      "    for k,v in d.iteritems():\n",
      "        if v in i:\n",
      "            i[v].append(k)\n",
      "        else:\n",
      "            i[v] = [k]\n",
      "    return i"
     ],
     "language": "python",
     "metadata": {},
     "outputs": [],
     "prompt_number": 6
    },
    {
     "cell_type": "code",
     "collapsed": false,
     "input": [
      "hom = invert(dict((k,v) for k,v in mapping.iteritems() if Voc[k] > 20))"
     ],
     "language": "python",
     "metadata": {},
     "outputs": [],
     "prompt_number": 7
    },
    {
     "cell_type": "code",
     "collapsed": false,
     "input": [
      "amb = [ (k,v) for k,v in hom.iteritems() if len(v) > 1 ]"
     ],
     "language": "python",
     "metadata": {},
     "outputs": [],
     "prompt_number": 8
    },
    {
     "cell_type": "code",
     "collapsed": false,
     "input": [
      "len(amb)"
     ],
     "language": "python",
     "metadata": {},
     "outputs": [
      {
       "metadata": {},
       "output_type": "pyout",
       "prompt_number": 9,
       "text": [
        "101"
       ]
      }
     ],
     "prompt_number": 9
    },
    {
     "cell_type": "code",
     "collapsed": false,
     "input": [
      "# Criteria:\n",
      "## different meaning\n",
      "## no respellings\n",
      "## no function words\n",
      "## at least 20 occurences of each meaning\n",
      "homonym = [ line.split() for line in open(\"/home/gchrupala/reimaginet/data/coco/homonym.txt\")]"
     ],
     "language": "python",
     "metadata": {},
     "outputs": [],
     "prompt_number": 10
    },
    {
     "cell_type": "code",
     "collapsed": false,
     "input": [
      "import numpy\n",
      "import imaginet.task as task\n",
      "import imaginet.defn.audiovis_rhn as audiovis\n"
     ],
     "language": "python",
     "metadata": {},
     "outputs": [
      {
       "output_type": "stream",
       "stream": "stderr",
       "text": [
        "Using gpu device 2: GeForce GTX 980 Ti (CNMeM is disabled, cuDNN 5005)\n"
       ]
      }
     ],
     "prompt_number": 11
    },
    {
     "cell_type": "code",
     "collapsed": false,
     "input": [
      "sent = list(prov.iterSentences(split='train')) + list(prov.iterSentences(split='val'))"
     ],
     "language": "python",
     "metadata": {},
     "outputs": [],
     "prompt_number": 61
    },
    {
     "cell_type": "code",
     "collapsed": false,
     "input": [
      "def matching(sent, word):\n",
      "    for sent_i in sent:\n",
      "        if word in sent_i['tokens']:\n",
      "            yield sent_i"
     ],
     "language": "python",
     "metadata": {},
     "outputs": [],
     "prompt_number": 62
    },
    {
     "cell_type": "code",
     "collapsed": false,
     "input": [
      "from sklearn.linear_model import LogisticRegression\n",
      "from sklearn.cross_validation import StratifiedKFold"
     ],
     "language": "python",
     "metadata": {},
     "outputs": [],
     "prompt_number": 63
    },
    {
     "cell_type": "code",
     "collapsed": false,
     "input": [
      "model = task.load(\"/home/gchrupala/reimaginet/run-rhn-coco-9-resume/model.r.e6.zip\")"
     ],
     "language": "python",
     "metadata": {},
     "outputs": [],
     "prompt_number": 15
    },
    {
     "cell_type": "code",
     "collapsed": false,
     "input": [
      "def rer(lo, hi):\n",
      "    return ((1-lo)-(1-hi))/(1-lo)\n",
      "\n",
      "def audio(sent):\n",
      "    return [ sent_i['audio'].mean(axis=0) for sent_i in sent ]\n",
      "\n",
      "def embed(sent):\n",
      "    return audiovis.encode_sentences(model, [ sent_i['audio'] for sent_i in sent ])\n",
      "\n",
      "CACHE = {}\n",
      "def mean_layer(sent, layer=0):\n",
      "    sent = list(sent)\n",
      "    if len(CACHE) > 5:\n",
      "        CACHE.clear()\n",
      "    key = '\\n'.join([ sent_i['raw'] for sent_i in sent ])\n",
      "    if key in CACHE:\n",
      "        return [ datum[:,layer,:].mean(axis=0) for datum in CACHE[key] ]\n",
      "    else:\n",
      "        data = audiovis.layer_states(model, [ sent_i['audio'] for sent_i in sent ])\n",
      "        CACHE[key] = data\n",
      "        result = [ datum[:,layer,:].mean(axis=0) for datum in data ]\n",
      "        return result"
     ],
     "language": "python",
     "metadata": {},
     "outputs": [],
     "prompt_number": 80
    },
    {
     "cell_type": "code",
     "collapsed": false,
     "input": [
      "def test_homonym(H, sent, features):\n",
      "    X_0 = features(matching(sent, H[0]))\n",
      "    X_1 = features(matching(sent, H[1]))\n",
      "    y_0 = numpy.zeros(len(X_0))\n",
      "    y_1 = numpy.ones(len(X_1))\n",
      "    X = numpy.vstack([X_0, X_1])\n",
      "    y = numpy.hstack([y_0, y_1])\n",
      "    classifier = LogisticRegression()\n",
      "    fold = StratifiedKFold(y, n_folds=10)\n",
      "    score = []\n",
      "    count = []\n",
      "    for tr, te in fold:\n",
      "        X_tr, X_te = X[tr], X[te]\n",
      "        y_tr, y_te = y[tr], y[te]\n",
      "        classifier.fit(X_tr, y_tr)\n",
      "        score.append(sum(classifier.predict(X_te) == y_te))\n",
      "        count.append(len(y_te))\n",
      "    score = numpy.array(score, dtype='float')\n",
      "    count = numpy.array(count, dtype='float')\n",
      "    result = {'word1_count': len(y_0),\n",
      "              'word2_count': len(y_1),\n",
      "              'majority': 1.0 * max(len(y_0),len(y_1))/len(y),\n",
      "              'kfold_acc': score/count }\n",
      "    return result"
     ],
     "language": "python",
     "metadata": {},
     "outputs": [],
     "prompt_number": 81
    },
    {
     "cell_type": "code",
     "collapsed": false,
     "input": [
      "from __future__ import print_function\n",
      "with open(\"ambigu-layerwise.txt\", \"w\") as out:\n",
      "    print(\"word1 word2 layer count1 count2 majority acc\", file=out)\n",
      "    for H in homonym:\n",
      "        for layer in range(5):\n",
      "            feat = lambda x: mean_layer(x, layer=layer)\n",
      "            r = test_homonym(H, sent, feat)\n",
      "            for acc in r['kfold_acc']:\n",
      "               print(\" \".join(H), layer, r['word1_count'], r['word2_count'], r['majority'], acc, file=out)\n",
      "               out.flush()"
     ],
     "language": "python",
     "metadata": {},
     "outputs": [],
     "prompt_number": 82
    },
    {
     "cell_type": "code",
     "collapsed": false,
     "input": [],
     "language": "python",
     "metadata": {},
     "outputs": []
    },
    {
     "cell_type": "code",
     "collapsed": false,
     "input": [
      "rs = []\n",
      "qs = []\n",
      "for H in homonym:\n",
      "    r = test_homonym(H, model, sent, audio=True)\n",
      "    q = test_homonym(H, model, sent, audio=False)\n",
      "    rs.append(r)\n",
      "    qs.append(q)\n",
      "    print \" \".join(H), round(rer(q['majority'], q['kfold_acc']),3), round(rer(r['kfold_acc'], q['kfold_acc']),3)"
     ],
     "language": "python",
     "metadata": {},
     "outputs": [
      {
       "output_type": "stream",
       "stream": "stdout",
       "text": [
        "sun son 0.386 0.376\n",
        "isle aisle"
       ]
      },
      {
       "output_type": "stream",
       "stream": "stdout",
       "text": [
        " 0.13 0.048\n",
        "sight site"
       ]
      },
      {
       "output_type": "stream",
       "stream": "stdout",
       "text": [
        " 0.152 0.264\n",
        "tray trey"
       ]
      },
      {
       "output_type": "stream",
       "stream": "stdout",
       "text": [
        " 0.0 0.018\n",
        "plane plain"
       ]
      },
      {
       "output_type": "stream",
       "stream": "stdout",
       "text": [
        " 0.728 0.727\n",
        "played plaid"
       ]
      },
      {
       "output_type": "stream",
       "stream": "stdout",
       "text": [
        " 0.94 0.756\n",
        "pause paws"
       ]
      },
      {
       "output_type": "stream",
       "stream": "stdout",
       "text": [
        " 0.5 0.56\n",
        "racket raquet"
       ]
      },
      {
       "output_type": "stream",
       "stream": "stdout",
       "text": [
        " 0.0 0.0\n",
        "wine whine"
       ]
      },
      {
       "output_type": "stream",
       "stream": "stdout",
       "text": [
        " 0.0 0.0\n",
        "mantle mantel"
       ]
      },
      {
       "output_type": "stream",
       "stream": "stdout",
       "text": [
        " 0.0 0.135\n",
        "tea tee"
       ]
      },
      {
       "output_type": "stream",
       "stream": "stdout",
       "text": [
        " 0.838 0.78\n",
        "cole coal"
       ]
      },
      {
       "output_type": "stream",
       "stream": "stdout",
       "text": [
        " 0.941 0.857\n",
        "lapse laps"
       ]
      },
      {
       "output_type": "stream",
       "stream": "stdout",
       "text": [
        " 0.767 0.759\n",
        "meat meet"
       ]
      },
      {
       "output_type": "stream",
       "stream": "stdout",
       "text": [
        " 0.333 0.333\n",
        "past passed"
       ]
      },
      {
       "output_type": "stream",
       "stream": "stdout",
       "text": [
        " 0.0 0.0\n",
        "rose rows"
       ]
      },
      {
       "output_type": "stream",
       "stream": "stdout",
       "text": [
        " 0.731 0.655\n",
        "sale sail"
       ]
      },
      {
       "output_type": "stream",
       "stream": "stdout",
       "text": [
        " 0.98 0.961\n",
        "pic pick"
       ]
      },
      {
       "output_type": "stream",
       "stream": "stdout",
       "text": [
        " 0.256 0.256\n",
        "stair stare"
       ]
      },
      {
       "output_type": "stream",
       "stream": "stdout",
       "text": [
        " 0.859 0.75\n",
        "waist waste"
       ]
      },
      {
       "output_type": "stream",
       "stream": "stdout",
       "text": [
        " 0.867 0.818\n",
        "plains planes"
       ]
      },
      {
       "output_type": "stream",
       "stream": "stdout",
       "text": [
        " 0.772 0.741\n",
        "peer pier"
       ]
      },
      {
       "output_type": "stream",
       "stream": "stdout",
       "text": [
        " 0.026 0.026\n",
        "herd heard"
       ]
      },
      {
       "output_type": "stream",
       "stream": "stdout",
       "text": [
        " 0.0 0.0\n",
        "road rode"
       ]
      },
      {
       "output_type": "stream",
       "stream": "stdout",
       "text": [
        " 0.0 0.0\n",
        "main mane"
       ]
      },
      {
       "output_type": "stream",
       "stream": "stdout",
       "text": [
        " 0.806 0.741\n",
        "sales sails"
       ]
      },
      {
       "output_type": "stream",
       "stream": "stdout",
       "text": [
        " 0.625 0.654\n",
        "rains reins"
       ]
      },
      {
       "output_type": "stream",
       "stream": "stdout",
       "text": [
        " 0.8 0.783\n",
        "seen scene"
       ]
      },
      {
       "output_type": "stream",
       "stream": "stdout",
       "text": [
        " 0.592 0.465\n",
        "ware wear"
       ]
      },
      {
       "output_type": "stream",
       "stream": "stdout",
       "text": [
        " 0.452 0.5\n",
        "weight wait"
       ]
      },
      {
       "output_type": "stream",
       "stream": "stdout",
       "text": [
        " 0.0 0.0\n",
        "mail male"
       ]
      },
      {
       "output_type": "stream",
       "stream": "stdout",
       "text": [
        " 0.171 0.159\n",
        "great grate"
       ]
      },
      {
       "output_type": "stream",
       "stream": "stdout",
       "text": [
        " 0.029 0.132\n",
        "steal steel"
       ]
      },
      {
       "output_type": "stream",
       "stream": "stdout",
       "text": [
        " 0.152 0.152\n",
        "boarder border"
       ]
      },
      {
       "output_type": "stream",
       "stream": "stdout",
       "text": [
        " 0.652 0.676\n",
        "tied tide"
       ]
      },
      {
       "output_type": "stream",
       "stream": "stdout",
       "text": [
        " 0.471 0.478\n",
        "pairs pears"
       ]
      },
      {
       "output_type": "stream",
       "stream": "stdout",
       "text": [
        " 0.921 0.804\n",
        "suite sweet"
       ]
      },
      {
       "output_type": "stream",
       "stream": "stdout",
       "text": [
        " 0.868 0.776\n",
        "peaking peeking"
       ]
      },
      {
       "output_type": "stream",
       "stream": "stdout",
       "text": [
        " 0.0 0.043\n",
        "sell cell"
       ]
      },
      {
       "output_type": "stream",
       "stream": "stdout",
       "text": [
        " 0.405 0.39\n",
        "board bored"
       ]
      },
      {
       "output_type": "stream",
       "stream": "stdout",
       "text": [
        " 0.0 0.0\n",
        "tale tail"
       ]
      },
      {
       "output_type": "stream",
       "stream": "stdout",
       "text": [
        " 0.0 0.0\n",
        "stares stairs"
       ]
      },
      {
       "output_type": "stream",
       "stream": "stdout",
       "text": [
        " 0.747 0.703\n",
        "bear bare"
       ]
      },
      {
       "output_type": "stream",
       "stream": "stdout",
       "text": [
        " 0.464 0.464\n",
        "wit whit"
       ]
      },
      {
       "output_type": "stream",
       "stream": "stdout",
       "text": [
        " 0.037 0.175\n",
        "see sea"
       ]
      },
      {
       "output_type": "stream",
       "stream": "stdout",
       "text": [
        " 0.73 0.688\n",
        "hole whole"
       ]
      },
      {
       "output_type": "stream",
       "stream": "stdout",
       "text": [
        " 0.796 0.655\n",
        "pole poll"
       ]
      },
      {
       "output_type": "stream",
       "stream": "stdout",
       "text": [
        " 0.0 0.0\n",
        "peace piece"
       ]
      },
      {
       "output_type": "stream",
       "stream": "stdout",
       "text": [
        " 0.264 0.281\n",
        "wears wares"
       ]
      },
      {
       "output_type": "stream",
       "stream": "stdout",
       "text": [
        " 0.5 0.522\n",
        "pair pear"
       ]
      },
      {
       "output_type": "stream",
       "stream": "stdout",
       "text": [
        " 0.091 0.063\n"
       ]
      }
     ],
     "prompt_number": 123
    },
    {
     "cell_type": "code",
     "collapsed": false,
     "input": [],
     "language": "python",
     "metadata": {},
     "outputs": []
    },
    {
     "cell_type": "code",
     "collapsed": false,
     "input": [
      "round(numpy.mean([ rer(q['majority'], q['kfold_acc']) for q in qs]),3)"
     ],
     "language": "python",
     "metadata": {},
     "outputs": [
      {
       "metadata": {},
       "output_type": "pyout",
       "prompt_number": 128,
       "text": [
        "0.416"
       ]
      }
     ],
     "prompt_number": 128
    },
    {
     "cell_type": "code",
     "collapsed": false,
     "input": [
      "round(numpy.mean([ rer(r['kfold_acc'], q['kfold_acc']) for r,q in zip(rs, qs)]),3)"
     ],
     "language": "python",
     "metadata": {},
     "outputs": [
      {
       "metadata": {},
       "output_type": "pyout",
       "prompt_number": 129,
       "text": [
        "0.402"
       ]
      }
     ],
     "prompt_number": 129
    },
    {
     "cell_type": "code",
     "collapsed": false,
     "input": [
      "def test_all(model, sent, homonym):\n",
      "    rs = []\n",
      "    qs = []\n",
      "    for H in homonym:\n",
      "        r = test_homonym(H, model, sent, audio=True)\n",
      "        q = test_homonym(H, model, sent, audio=False)\n",
      "        rs.append(r)\n",
      "        qs.append(q)\n",
      "    mean_rer_maj = round(numpy.mean([ rer(q['majority'], q['kfold_acc']) for q in qs]),3)\n",
      "    mean_rer_mfcc = round(numpy.mean([ rer(r['kfold_acc'], q['kfold_acc']) for r,q in zip(rs, qs)]),3)\n",
      "    return (mean_rer_maj, mean_rer_mfcc)"
     ],
     "language": "python",
     "metadata": {},
     "outputs": [],
     "prompt_number": 134
    },
    {
     "cell_type": "code",
     "collapsed": false,
     "input": [
      "model_gru = task.load(\"/home/gchrupala/reimaginet/run-speech-vendrov-3/model.9.zip\")"
     ],
     "language": "python",
     "metadata": {},
     "outputs": [],
     "prompt_number": 131
    },
    {
     "cell_type": "code",
     "collapsed": false,
     "input": [
      "test_all(model_gru, sent, homonym)"
     ],
     "language": "python",
     "metadata": {},
     "outputs": [
      {
       "metadata": {},
       "output_type": "pyout",
       "prompt_number": 135,
       "text": [
        "(0.412, 0.398)"
       ]
      }
     ],
     "prompt_number": 135
    },
    {
     "cell_type": "code",
     "collapsed": false,
     "input": [],
     "language": "python",
     "metadata": {},
     "outputs": []
    }
   ],
   "metadata": {}
  }
 ]
}