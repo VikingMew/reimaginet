{
 "metadata": {
  "name": "",
  "signature": "sha256:0ef68633c0b4cdbde3984bcaf57b592a1e7e006f4dc0605d69fddd4e0bcb4882"
 },
 "nbformat": 3,
 "nbformat_minor": 0,
 "worksheets": [
  {
   "cells": [
    {
     "cell_type": "code",
     "collapsed": false,
     "input": [
      "import imaginet.vendrov_provider as dp\n",
      "import json"
     ],
     "language": "python",
     "metadata": {},
     "outputs": [],
     "prompt_number": 1
    },
    {
     "cell_type": "code",
     "collapsed": false,
     "input": [
      "prov = dp.getDataProvider(dataset='coco', root='/home/gchrupala/reimaginet/')"
     ],
     "language": "python",
     "metadata": {},
     "outputs": [],
     "prompt_number": 2
    },
    {
     "cell_type": "markdown",
     "metadata": {},
     "source": [
      "## Generate IPA transcriptions for COCO words"
     ]
    },
    {
     "cell_type": "code",
     "collapsed": false,
     "input": [
      "from collections import  Counter\n",
      "def vocabulary(prov):\n",
      "    sent_t = prov.iterSentences(split='train')\n",
      "    sent_v = prov.iterSentences(split='val')\n",
      "    V = Counter()\n",
      "    for S in [sent_t, sent_v]:\n",
      "        for utt in S:\n",
      "            V.update(utt['tokens'])\n",
      "    return V"
     ],
     "language": "python",
     "metadata": {},
     "outputs": [],
     "prompt_number": 3
    },
    {
     "cell_type": "code",
     "collapsed": false,
     "input": [
      "Voc = vocabulary(prov)"
     ],
     "language": "python",
     "metadata": {},
     "outputs": [],
     "prompt_number": 4
    },
    {
     "cell_type": "markdown",
     "metadata": {},
     "source": [
      "```\n",
      "import codecs\n",
      "    \n",
      "# Write vocabulary file\n",
      "with open(\"/home/gchrupala/reimaginet/data/coco/vocab.txt\", \"w\") as f:\n",
      "    for word in Voc:\n",
      "        f.write(word)\n",
      "        f.write(\"\\n\\n\")\n",
      "\n",
      "# Pass through espeak        \n",
      "raw = subprocess.check_output(['espeak', '-q', '--ipa=3', '-v', 'en-us', '-f', \"/home/gchrupala/reimaginet/data/coco/vocab.txt\"])\n",
      "pron = [ ''.join(ttp.clean_phonemes(line.strip())) for line in raw.split(\"\\n\")][:-1]\n",
      "\n",
      "# Write IPA file\n",
      "mapping = dict(zip(Voc.keys(), pron))\n",
      "with open(\"/home/gchrupala/reimaginet/data/coco/vocab.ipa.json\", \"w\") as f:\n",
      "    json.dump(mapping, f)\n",
      "```    "
     ]
    },
    {
     "cell_type": "code",
     "collapsed": false,
     "input": [
      "mapping = json.load(open(\"/home/gchrupala/reimaginet/data/coco/vocab.ipa.json\"))"
     ],
     "language": "python",
     "metadata": {},
     "outputs": [],
     "prompt_number": 5
    },
    {
     "cell_type": "markdown",
     "metadata": {},
     "source": [
      "## Find homophones"
     ]
    },
    {
     "cell_type": "code",
     "collapsed": false,
     "input": [
      "def invert(d):\n",
      "    i = {}\n",
      "    for k,v in d.iteritems():\n",
      "        if v in i:\n",
      "            i[v].append(k)\n",
      "        else:\n",
      "            i[v] = [k]\n",
      "    return i"
     ],
     "language": "python",
     "metadata": {},
     "outputs": [],
     "prompt_number": 6
    },
    {
     "cell_type": "code",
     "collapsed": false,
     "input": [
      "hom = invert(dict((k,v) for k,v in mapping.iteritems() if Voc[k] > 20))"
     ],
     "language": "python",
     "metadata": {},
     "outputs": [],
     "prompt_number": 7
    },
    {
     "cell_type": "code",
     "collapsed": false,
     "input": [
      "amb = [ (k,v) for k,v in hom.iteritems() if len(v) > 1 ]"
     ],
     "language": "python",
     "metadata": {},
     "outputs": [],
     "prompt_number": 8
    },
    {
     "cell_type": "code",
     "collapsed": false,
     "input": [
      "len(amb)"
     ],
     "language": "python",
     "metadata": {},
     "outputs": [
      {
       "metadata": {},
       "output_type": "pyout",
       "prompt_number": 9,
       "text": [
        "101"
       ]
      }
     ],
     "prompt_number": 9
    },
    {
     "cell_type": "code",
     "collapsed": false,
     "input": [
      "# Criteria:\n",
      "## different meaning\n",
      "## no respellings\n",
      "## no function words\n",
      "## at least 20 occurences of each meaning\n",
      "homonym = [ line.split() for line in open(\"/home/gchrupala/reimaginet/data/coco/homonym.txt\")]"
     ],
     "language": "python",
     "metadata": {},
     "outputs": [],
     "prompt_number": 10
    },
    {
     "cell_type": "code",
     "collapsed": false,
     "input": [
      "import numpy\n",
      "import imaginet.task as task\n",
      "import imaginet.defn.audiovis_rhn as audiovis\n"
     ],
     "language": "python",
     "metadata": {},
     "outputs": [
      {
       "output_type": "stream",
       "stream": "stderr",
       "text": [
        "Using gpu device 0: GeForce GTX 980 Ti (CNMeM is disabled, cuDNN 5005)\n"
       ]
      }
     ],
     "prompt_number": 11
    },
    {
     "cell_type": "code",
     "collapsed": false,
     "input": [
      "sent = list(prov.iterSentences(split='train')) + list(prov.iterSentences(split='val'))"
     ],
     "language": "python",
     "metadata": {},
     "outputs": [],
     "prompt_number": 12
    },
    {
     "cell_type": "code",
     "collapsed": false,
     "input": [
      "def matching(sent, word):\n",
      "    for sent_i in sent:\n",
      "        if word in sent_i['tokens']:\n",
      "            yield sent_i"
     ],
     "language": "python",
     "metadata": {},
     "outputs": [],
     "prompt_number": 13
    },
    {
     "cell_type": "code",
     "collapsed": false,
     "input": [
      "from sklearn.linear_model import LogisticRegression\n",
      "from sklearn.cross_validation import StratifiedKFold\n",
      "from sklearn.preprocessing import normalize"
     ],
     "language": "python",
     "metadata": {},
     "outputs": [],
     "prompt_number": 14
    },
    {
     "cell_type": "code",
     "collapsed": false,
     "input": [
      "model = task.load(\"/home/gchrupala/reimaginet/run-rhn-coco-9-resume/model.r.e9.zip\")"
     ],
     "language": "python",
     "metadata": {},
     "outputs": [],
     "prompt_number": 15
    },
    {
     "cell_type": "code",
     "collapsed": false,
     "input": [
      "def rer(lo, hi):\n",
      "    return ((1-lo)-(1-hi))/(1-lo)\n",
      "\n",
      "def audio(sent):\n",
      "    return [ sent_i['audio'].mean(axis=0) for sent_i in sent ]\n",
      "\n",
      "def embed(sent):\n",
      "    return audiovis.encode_sentences(model, [ sent_i['audio'] for sent_i in sent ])\n",
      "\n",
      "CACHE = {}\n",
      "def mean_layer(sent, layer=0):\n",
      "    sent = list(sent)\n",
      "    if len(CACHE) > 5:\n",
      "        CACHE.clear()\n",
      "    key = '\\n'.join([ sent_i['raw'] for sent_i in sent ])\n",
      "    if key in CACHE:\n",
      "        return [ datum[:,layer,:].mean(axis=0) for datum in CACHE[key] ]\n",
      "    else:\n",
      "        data = audiovis.layer_states(model, [ sent_i['audio'] for sent_i in sent ])\n",
      "        CACHE[key] = data\n",
      "        result = [ datum[:,layer,:].mean(axis=0) for datum in data ]\n",
      "        return result"
     ],
     "language": "python",
     "metadata": {},
     "outputs": [],
     "prompt_number": 16
    },
    {
     "cell_type": "code",
     "collapsed": false,
     "input": [
      "def test_homonym(H, sent, features, C=1.0):\n",
      "    X_0 = features(matching(sent, H[0]))\n",
      "    X_1 = features(matching(sent, H[1]))\n",
      "    y_0 = numpy.zeros(len(X_0))\n",
      "    y_1 = numpy.ones(len(X_1))\n",
      "    X = normalize(numpy.vstack([X_0, X_1]), norm='l2')\n",
      "    y = numpy.hstack([y_0, y_1])\n",
      "    classifier = LogisticRegression(C=C)\n",
      "    fold = StratifiedKFold(y, n_folds=10)\n",
      "    score = []\n",
      "    count = []\n",
      "    for tr, te in fold:\n",
      "        X_tr, X_te = X[tr], X[te]\n",
      "        y_tr, y_te = y[tr], y[te]\n",
      "        classifier.fit(X_tr, y_tr)\n",
      "        score.append(sum(classifier.predict(X_te) == y_te))\n",
      "        count.append(len(y_te))\n",
      "    score = numpy.array(score, dtype='float')\n",
      "    count = numpy.array(count, dtype='float')\n",
      "    result = {'word1_count': len(y_0),\n",
      "              'word2_count': len(y_1),\n",
      "              'majority': 1.0 * max(len(y_0),len(y_1))/len(y),\n",
      "              'kfold_acc': score/count }\n",
      "    return result"
     ],
     "language": "python",
     "metadata": {},
     "outputs": [],
     "prompt_number": 22
    },
    {
     "cell_type": "code",
     "collapsed": false,
     "input": [
      "from __future__ import print_function"
     ],
     "language": "python",
     "metadata": {},
     "outputs": [],
     "prompt_number": 18
    },
    {
     "cell_type": "code",
     "collapsed": false,
     "input": [
      "with open(\"ambigu-io.txt\", \"w\") as out:\n",
      "    print(\"word1 word2 io count1 count2 majority acc\", file=out)\n",
      "    for H in homonym:\n",
      "        r = test_homonym(H, sent, audio)\n",
      "        for acc in r['kfold_acc']:\n",
      "            print(\" \".join(H), \"input\", r['word1_count'], r['word2_count'], r['majority'], acc, file=out)\n",
      "        r = test_homonym(H, sent, embed)\n",
      "        for acc in r['kfold_acc']:\n",
      "            print(\" \".join(H), \"output\", r['word1_count'], r['word2_count'], r['majority'], acc, file=out)\n",
      "        out.flush()"
     ],
     "language": "python",
     "metadata": {},
     "outputs": [],
     "prompt_number": 19
    },
    {
     "cell_type": "code",
     "collapsed": false,
     "input": [
      "\n",
      "with open(\"ambigu-layerwise.txt\", \"w\") as out:\n",
      "    print(\"word1 word2 layer count1 count2 majority acc\", file=out)\n",
      "    for H in homonym:\n",
      "        for layer in range(5):\n",
      "            feat = lambda x: mean_layer(x, layer=layer)\n",
      "            r = test_homonym(H, sent, feat)\n",
      "            for acc in r['kfold_acc']:\n",
      "               print(\" \".join(H), layer, r['word1_count'], r['word2_count'], r['majority'], acc, file=out)\n",
      "               out.flush()"
     ],
     "language": "python",
     "metadata": {},
     "outputs": [],
     "prompt_number": 20
    },
    {
     "cell_type": "code",
     "collapsed": false,
     "input": [
      "##########################################################"
     ],
     "language": "python",
     "metadata": {},
     "outputs": []
    },
    {
     "cell_type": "code",
     "collapsed": false,
     "input": [
      "for s in matching(sent, 'grate'):\n",
      "    print(s['raw'])"
     ],
     "language": "python",
     "metadata": {},
     "outputs": [
      {
       "output_type": "stream",
       "stream": "stdout",
       "text": [
        "a dog sitting looking through a grate out a window\n",
        "a pizza that is sitting on a grate\n",
        "three obese fowls stand on a dirty area next to a grate on the ground\n",
        "three fat birds stand next to a metal grate\n",
        "a puffy pie is on a cooler grate on white tiles\n",
        "a young girl standing on a grate with a racket\n",
        "on the grate is a hotdog loaded with chili and cheese\n",
        "a clean white bathroom with radiator grate sink and toilet\n",
        "a hand holding aluminum foil half wrapped pork sausage dog in a hot dog bun with shredded vegetables over sidewalk area with grate\n",
        "the skateboarders jump over the grate on the city street\n",
        "a metal motorcycle parked on top of a metal grate\n",
        "man wearing baseball cap walking dog near grate"
       ]
      },
      {
       "output_type": "stream",
       "stream": "stdout",
       "text": [
        "\n",
        "a boy holding a frisbee is talking to a boy behind a grate\n",
        "a bunch of hot dogs that are on a grill grate\n",
        "a woman with a shorn sheep on a grate\n",
        "a red fire hydrant sitting near a metal grate\n",
        "a group of dogs looking out from behind a grate in a vehicle\n",
        "a white toilet sitting in the woods with a grill grate over the seat\n",
        "the damaged facade of an elderly building is marked by a number of pipes a sign and an ornamental iron grate\n",
        "a bunch of hotdogs that are on a grill grate\n",
        "a grate has been opened to allow access to a city sewer"
       ]
      },
      {
       "output_type": "stream",
       "stream": "stdout",
       "text": [
        "\n",
        "a grate that is sitting inside of an oven\n",
        "a bathroom with a white toilet and a metal grate\n",
        "a toilet is in a bathroom with a grate on the floor and a wheel on the wall\n",
        "a street has steam coming out of the grate\n",
        "a bunch of hot dogs that are on a grill grate\n",
        "a grate in the sidewalk near a yellow fire hydrant\n",
        "a yellow hydrant sitting on a street by a metal grate on the ground\n",
        "a hummingbird perched with wings spread on a sugar water nectar feeder with plastic red flowers with yellow plastic grate centers\n",
        "a pipe sticking out of a paved surface next to a street grate\n",
        "a man holding a skateboard stands next to a large grate\n",
        "two hands grate cheese over a pizza that sits on a green plate\n",
        "a cat passes in front of the grate of a blue car\n",
        "a metal grate screwed onto something that is metal\n"
       ]
      }
     ],
     "prompt_number": 29
    },
    {
     "cell_type": "code",
     "collapsed": false,
     "input": [],
     "language": "python",
     "metadata": {},
     "outputs": []
    }
   ],
   "metadata": {}
  }
 ]
}