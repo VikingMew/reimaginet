{
 "metadata": {
  "name": "",
  "signature": "sha256:1c14a42687587340fc621bf6674017a0539e1d74232fa6dbf38b730069856a4c"
 },
 "nbformat": 3,
 "nbformat_minor": 0,
 "worksheets": [
  {
   "cells": [
    {
     "cell_type": "code",
     "collapsed": false,
     "input": [
      "import imaginet.vendrov_provider as dp\n",
      "import json"
     ],
     "language": "python",
     "metadata": {},
     "outputs": [],
     "prompt_number": 1
    },
    {
     "cell_type": "code",
     "collapsed": false,
     "input": [
      "prov = dp.getDataProvider(dataset='coco', root='/home/gchrupala/reimaginet/')"
     ],
     "language": "python",
     "metadata": {},
     "outputs": [],
     "prompt_number": 2
    },
    {
     "cell_type": "markdown",
     "metadata": {},
     "source": [
      "## Generate IPA transcriptions for COCO words"
     ]
    },
    {
     "cell_type": "code",
     "collapsed": false,
     "input": [
      "from collections import  Counter\n",
      "def vocabulary(prov):\n",
      "    sent_t = prov.iterSentences(split='train')\n",
      "    sent_v = prov.iterSentences(split='val')\n",
      "    V = Counter()\n",
      "    for S in [sent_t, sent_v]:\n",
      "        for utt in S:\n",
      "            V.update(utt['tokens'])\n",
      "    return V"
     ],
     "language": "python",
     "metadata": {},
     "outputs": [],
     "prompt_number": 3
    },
    {
     "cell_type": "code",
     "collapsed": false,
     "input": [
      "Voc = vocabulary(prov)"
     ],
     "language": "python",
     "metadata": {},
     "outputs": [],
     "prompt_number": 4
    },
    {
     "cell_type": "markdown",
     "metadata": {},
     "source": [
      "```\n",
      "import codecs\n",
      "    \n",
      "# Write vocabulary file\n",
      "with open(\"/home/gchrupala/reimaginet/data/coco/vocab.txt\", \"w\") as f:\n",
      "    for word in Voc:\n",
      "        f.write(word)\n",
      "        f.write(\"\\n\\n\")\n",
      "\n",
      "# Pass through espeak        \n",
      "raw = subprocess.check_output(['espeak', '-q', '--ipa=3', '-v', 'en-us', '-f', \"/home/gchrupala/reimaginet/data/coco/vocab.txt\"])\n",
      "pron = [ ''.join(ttp.clean_phonemes(line.strip())) for line in raw.split(\"\\n\")][:-1]\n",
      "\n",
      "# Write IPA file\n",
      "mapping = dict(zip(Voc.keys(), pron))\n",
      "with open(\"/home/gchrupala/reimaginet/data/coco/vocab.ipa.json\", \"w\") as f:\n",
      "    json.dump(mapping, f)\n",
      "```    "
     ]
    },
    {
     "cell_type": "code",
     "collapsed": false,
     "input": [
      "mapping = json.load(open(\"/home/gchrupala/reimaginet/data/coco/vocab.ipa.json\"))"
     ],
     "language": "python",
     "metadata": {},
     "outputs": [],
     "prompt_number": 5
    },
    {
     "cell_type": "markdown",
     "metadata": {},
     "source": [
      "## Find homophones"
     ]
    },
    {
     "cell_type": "code",
     "collapsed": false,
     "input": [
      "def invert(d):\n",
      "    i = {}\n",
      "    for k,v in d.iteritems():\n",
      "        if v in i:\n",
      "            i[v].append(k)\n",
      "        else:\n",
      "            i[v] = [k]\n",
      "    return i"
     ],
     "language": "python",
     "metadata": {},
     "outputs": [],
     "prompt_number": 6
    },
    {
     "cell_type": "code",
     "collapsed": false,
     "input": [
      "hom = invert(dict((k,v) for k,v in mapping.iteritems() if Voc[k] > 20))"
     ],
     "language": "python",
     "metadata": {},
     "outputs": [],
     "prompt_number": 7
    },
    {
     "cell_type": "code",
     "collapsed": false,
     "input": [
      "amb = [ (k,v) for k,v in hom.iteritems() if len(v) > 1 ]"
     ],
     "language": "python",
     "metadata": {},
     "outputs": [],
     "prompt_number": 8
    },
    {
     "cell_type": "code",
     "collapsed": false,
     "input": [
      "len(amb)"
     ],
     "language": "python",
     "metadata": {},
     "outputs": [
      {
       "metadata": {},
       "output_type": "pyout",
       "prompt_number": 9,
       "text": [
        "101"
       ]
      }
     ],
     "prompt_number": 9
    },
    {
     "cell_type": "code",
     "collapsed": false,
     "input": [
      "for item in amb:\n",
      "    print \" \".join(item[1])"
     ],
     "language": "python",
     "metadata": {},
     "outputs": [
      {
       "output_type": "stream",
       "stream": "stdout",
       "text": [
        "sun son\n",
        "isle aisle\n",
        "not knot\n",
        "threw thru through\n",
        "cities citys\n",
        "ladies ladys\n",
        "sight site\n",
        "tray trey\n",
        "plane plain\n",
        "played plaid\n",
        "pause paws\n",
        "rackett racket raquet\n",
        "wine whine\n",
        "wii we\n",
        "mantle mantel\n",
        "t tea tee\n",
        "cole coal\n",
        "lapse laps\n",
        "10 ten\n",
        "meat meet\n",
        "bi by buy\n",
        "babies babys\n",
        "past passed\n",
        "lite light\n",
        "rose rows\n",
        "sale sail\n",
        "flys flies\n",
        "pic pick\n",
        "stair stare\n",
        "no know\n",
        "and &\n",
        "grey gray\n",
        "whose whos\n",
        "waist waste\n",
        "plains planes\n",
        "peer pier\n",
        "herd heard\n",
        "road rode\n",
        "gentleman gentlemen\n",
        "main mane\n",
        "hay hey\n",
        "thre 3 three\n",
        "eye i\n",
        "propellor propeller\n",
        "donuts doughnuts\n",
        "you u\n",
        "sales sails\n",
        "donut doughnut\n",
        "duffel duffle\n",
        "reigns rains reins\n",
        "seen scene\n",
        "deserts desserts\n",
        "5 five\n",
        "ware where wear\n",
        "here hear\n",
        "sandwich sandwhich\n",
        "weight wait\n",
        "mail male\n",
        "great grate\n",
        "av ave\n",
        "sheering shearing\n",
        "steal steel\n",
        "busses buses\n",
        "bunt bundt\n",
        "their there\n",
        "boarder border\n",
        "tied tide\n",
        "pairs pears\n",
        "laid layed\n",
        "b be\n",
        "six 6\n",
        "bin been\n",
        "too 2 two to\n",
        "suite sweet\n",
        "peaking peeking\n",
        "cel sell cell\n",
        "board bored\n",
        "seven 7\n",
        "wooly woolly\n",
        "travelling traveling\n",
        "one 1\n",
        "four 4\n",
        "tale tail\n",
        "stares stairs\n",
        "bear bare\n",
        "butt but\n",
        "wit whit\n",
        "disk disc\n",
        "blond blonde\n",
        "see sea\n",
        "theatre theater\n",
        "hole whole\n",
        "pole poll\n",
        "peace piece\n",
        "would wood\n",
        "8 eight\n",
        "wears wares\n",
        "sox socks\n",
        "buss bus\n",
        "pair pear\n",
        "cream kreme creme\n"
       ]
      }
     ],
     "prompt_number": 10
    },
    {
     "cell_type": "code",
     "collapsed": false,
     "input": [
      "# Criteria:\n",
      "## different meaning\n",
      "## no respellings\n",
      "## no function words\n",
      "## at least 20 occurences of each meaning\n",
      "homonym = [ line.split() for line in open(\"/home/gchrupala/reimaginet/data/coco/homonym.txt\")]"
     ],
     "language": "python",
     "metadata": {},
     "outputs": [],
     "prompt_number": 74
    },
    {
     "cell_type": "code",
     "collapsed": false,
     "input": [
      "homonym"
     ],
     "language": "python",
     "metadata": {},
     "outputs": [
      {
       "metadata": {},
       "output_type": "pyout",
       "prompt_number": 75,
       "text": [
        "[['sun', 'son'],\n",
        " ['isle', 'aisle'],\n",
        " ['sight', 'site'],\n",
        " ['tray', 'trey'],\n",
        " ['plane', 'plain'],\n",
        " ['played', 'plaid'],\n",
        " ['pause', 'paws'],\n",
        " ['racket', 'raquet'],\n",
        " ['wine', 'whine'],\n",
        " ['mantle', 'mantel'],\n",
        " ['tea', 'tee'],\n",
        " ['cole', 'coal'],\n",
        " ['lapse', 'laps'],\n",
        " ['meat', 'meet'],\n",
        " ['past', 'passed'],\n",
        " ['rose', 'rows'],\n",
        " ['sale', 'sail'],\n",
        " ['pic', 'pick'],\n",
        " ['stair', 'stare'],\n",
        " ['waist', 'waste'],\n",
        " ['plains', 'planes'],\n",
        " ['peer', 'pier'],\n",
        " ['herd', 'heard'],\n",
        " ['road', 'rode'],\n",
        " ['main', 'mane'],\n",
        " ['sales', 'sails'],\n",
        " ['rains', 'reins'],\n",
        " ['seen', 'scene'],\n",
        " ['ware', 'wear'],\n",
        " ['weight', 'wait'],\n",
        " ['mail', 'male'],\n",
        " ['great', 'grate'],\n",
        " ['steal', 'steel'],\n",
        " ['boarder', 'border'],\n",
        " ['tied', 'tide'],\n",
        " ['pairs', 'pears'],\n",
        " ['suite', 'sweet'],\n",
        " ['peaking', 'peeking'],\n",
        " ['sell', 'cell'],\n",
        " ['board', 'bored'],\n",
        " ['tale', 'tail'],\n",
        " ['stares', 'stairs'],\n",
        " ['bear', 'bare'],\n",
        " ['wit', 'whit'],\n",
        " ['see', 'sea'],\n",
        " ['hole', 'whole'],\n",
        " ['pole', 'poll'],\n",
        " ['peace', 'piece'],\n",
        " ['wears', 'wares'],\n",
        " ['pair', 'pear']]"
       ]
      }
     ],
     "prompt_number": 75
    },
    {
     "cell_type": "code",
     "collapsed": false,
     "input": [
      "import numpy\n",
      "import imaginet.task as task\n",
      "import imaginet.defn.audiovis_rhn as audiovis\n"
     ],
     "language": "python",
     "metadata": {},
     "outputs": [],
     "prompt_number": 24
    },
    {
     "cell_type": "code",
     "collapsed": false,
     "input": [
      "sent = list(prov.iterSentences(split='train')) + list(prov.iterSentences(split='val'))"
     ],
     "language": "python",
     "metadata": {},
     "outputs": [],
     "prompt_number": 25
    },
    {
     "cell_type": "code",
     "collapsed": false,
     "input": [
      "def matching(sent, word):\n",
      "    for sent_i in sent:\n",
      "        if word in sent_i['tokens']:\n",
      "            yield sent_i"
     ],
     "language": "python",
     "metadata": {},
     "outputs": [],
     "prompt_number": 26
    },
    {
     "cell_type": "code",
     "collapsed": false,
     "input": [
      "from sklearn.linear_model import LogisticRegression\n",
      "from sklearn.cross_validation import StratifiedKFold"
     ],
     "language": "python",
     "metadata": {},
     "outputs": [],
     "prompt_number": 43
    },
    {
     "cell_type": "code",
     "collapsed": false,
     "input": [
      "model = task.load(\"/home/gchrupala/reimaginet/run-rhn-coco-8/model.r.e8.zip\")"
     ],
     "language": "python",
     "metadata": {},
     "outputs": [],
     "prompt_number": 139
    },
    {
     "cell_type": "code",
     "collapsed": false,
     "input": [
      "def rer(lo, hi):\n",
      "    return ((1-lo)-(1-hi))/(1-lo)\n",
      "\n",
      "def audio(sent):\n",
      "    return [ sent_i['audio'].mean(axis=0) for sent_i in sent ]\n",
      "\n",
      "\n",
      "def embed(sent):\n",
      "    return audiovis.encode_sentences(model, [ sent_i['audio'] for sent_i in sent ])\n",
      "\n",
      "def mean_layer(sent, layer=0):\n",
      "    data = audiovis.layer_states(model, [ sent_i['audio'] for sent_i in sent ])\n",
      "    return [ datum[:,layer,:].mean(axis=0) for datum in data ]\n",
      "\n",
      "def test_homonym(H, sent, features):\n",
      "    X_0 = features(matching(sent, H[0]))\n",
      "    X_1 = features(matching(sent, H[1]))\n",
      "        \n",
      "    y_0 = numpy.zeros(len(X_0))\n",
      "    y_1 = numpy.ones(len(X_1))\n",
      "    X = numpy.vstack([X_0, X_1])\n",
      "    y = numpy.hstack([y_0, y_1])\n",
      "    classifier = LogisticRegression()\n",
      "    fold = StratifiedKFold(y, n_folds=10)\n",
      "    score = 0.0\n",
      "    count = 0.0\n",
      "    for tr, te in fold:\n",
      "        X_tr, X_te = X[tr], X[te]\n",
      "        y_tr, y_te = y[tr], y[te]\n",
      "        classifier.fit(X_tr, y_tr)\n",
      "        score += sum(classifier.predict(X_te) == y_te)\n",
      "        count += len(y_te)\n",
      "    result = {'majority': 1.0 * max(len(y_0),len(y_1))/len(y),\n",
      "                'kfold_acc': 1.0 * score / count }\n",
      "    return result\n"
     ],
     "language": "python",
     "metadata": {},
     "outputs": [],
     "prompt_number": 143
    },
    {
     "cell_type": "code",
     "collapsed": false,
     "input": [
      "print \"word1 word2 layer rer\"\n",
      "for H in homonym:\n",
      "    for layer in [0,1,2,3]:\n",
      "        feat = lambda x: mean_layer(x, layer=layer)\n",
      "        r = test_homonym(H, sent, feat)\n",
      "        print \" \".join(H), layer, round(rer(r['majority'], r['kfold_acc']),3)"
     ],
     "language": "python",
     "metadata": {},
     "outputs": [
      {
       "output_type": "stream",
       "stream": "stdout",
       "text": [
        "word1 word2 layer rer\n",
        "sun son"
       ]
      },
      {
       "output_type": "stream",
       "stream": "stdout",
       "text": [
        " 0 0.636\n",
        "sun son"
       ]
      }
     ]
    },
    {
     "cell_type": "code",
     "collapsed": false,
     "input": [
      "rs = []\n",
      "qs = []\n",
      "for H in homonym:\n",
      "    r = test_homonym(H, model, sent, audio=True)\n",
      "    q = test_homonym(H, model, sent, audio=False)\n",
      "    rs.append(r)\n",
      "    qs.append(q)\n",
      "    print \" \".join(H), round(rer(q['majority'], q['kfold_acc']),3), round(rer(r['kfold_acc'], q['kfold_acc']),3)"
     ],
     "language": "python",
     "metadata": {},
     "outputs": [
      {
       "output_type": "stream",
       "stream": "stdout",
       "text": [
        "sun son 0.386 0.376\n",
        "isle aisle"
       ]
      },
      {
       "output_type": "stream",
       "stream": "stdout",
       "text": [
        " 0.13 0.048\n",
        "sight site"
       ]
      },
      {
       "output_type": "stream",
       "stream": "stdout",
       "text": [
        " 0.152 0.264\n",
        "tray trey"
       ]
      },
      {
       "output_type": "stream",
       "stream": "stdout",
       "text": [
        " 0.0 0.018\n",
        "plane plain"
       ]
      },
      {
       "output_type": "stream",
       "stream": "stdout",
       "text": [
        " 0.728 0.727\n",
        "played plaid"
       ]
      },
      {
       "output_type": "stream",
       "stream": "stdout",
       "text": [
        " 0.94 0.756\n",
        "pause paws"
       ]
      },
      {
       "output_type": "stream",
       "stream": "stdout",
       "text": [
        " 0.5 0.56\n",
        "racket raquet"
       ]
      },
      {
       "output_type": "stream",
       "stream": "stdout",
       "text": [
        " 0.0 0.0\n",
        "wine whine"
       ]
      },
      {
       "output_type": "stream",
       "stream": "stdout",
       "text": [
        " 0.0 0.0\n",
        "mantle mantel"
       ]
      },
      {
       "output_type": "stream",
       "stream": "stdout",
       "text": [
        " 0.0 0.135\n",
        "tea tee"
       ]
      },
      {
       "output_type": "stream",
       "stream": "stdout",
       "text": [
        " 0.838 0.78\n",
        "cole coal"
       ]
      },
      {
       "output_type": "stream",
       "stream": "stdout",
       "text": [
        " 0.941 0.857\n",
        "lapse laps"
       ]
      },
      {
       "output_type": "stream",
       "stream": "stdout",
       "text": [
        " 0.767 0.759\n",
        "meat meet"
       ]
      },
      {
       "output_type": "stream",
       "stream": "stdout",
       "text": [
        " 0.333 0.333\n",
        "past passed"
       ]
      },
      {
       "output_type": "stream",
       "stream": "stdout",
       "text": [
        " 0.0 0.0\n",
        "rose rows"
       ]
      },
      {
       "output_type": "stream",
       "stream": "stdout",
       "text": [
        " 0.731 0.655\n",
        "sale sail"
       ]
      },
      {
       "output_type": "stream",
       "stream": "stdout",
       "text": [
        " 0.98 0.961\n",
        "pic pick"
       ]
      },
      {
       "output_type": "stream",
       "stream": "stdout",
       "text": [
        " 0.256 0.256\n",
        "stair stare"
       ]
      },
      {
       "output_type": "stream",
       "stream": "stdout",
       "text": [
        " 0.859 0.75\n",
        "waist waste"
       ]
      },
      {
       "output_type": "stream",
       "stream": "stdout",
       "text": [
        " 0.867 0.818\n",
        "plains planes"
       ]
      },
      {
       "output_type": "stream",
       "stream": "stdout",
       "text": [
        " 0.772 0.741\n",
        "peer pier"
       ]
      },
      {
       "output_type": "stream",
       "stream": "stdout",
       "text": [
        " 0.026 0.026\n",
        "herd heard"
       ]
      },
      {
       "output_type": "stream",
       "stream": "stdout",
       "text": [
        " 0.0 0.0\n",
        "road rode"
       ]
      },
      {
       "output_type": "stream",
       "stream": "stdout",
       "text": [
        " 0.0 0.0\n",
        "main mane"
       ]
      },
      {
       "output_type": "stream",
       "stream": "stdout",
       "text": [
        " 0.806 0.741\n",
        "sales sails"
       ]
      },
      {
       "output_type": "stream",
       "stream": "stdout",
       "text": [
        " 0.625 0.654\n",
        "rains reins"
       ]
      },
      {
       "output_type": "stream",
       "stream": "stdout",
       "text": [
        " 0.8 0.783\n",
        "seen scene"
       ]
      },
      {
       "output_type": "stream",
       "stream": "stdout",
       "text": [
        " 0.592 0.465\n",
        "ware wear"
       ]
      },
      {
       "output_type": "stream",
       "stream": "stdout",
       "text": [
        " 0.452 0.5\n",
        "weight wait"
       ]
      },
      {
       "output_type": "stream",
       "stream": "stdout",
       "text": [
        " 0.0 0.0\n",
        "mail male"
       ]
      },
      {
       "output_type": "stream",
       "stream": "stdout",
       "text": [
        " 0.171 0.159\n",
        "great grate"
       ]
      },
      {
       "output_type": "stream",
       "stream": "stdout",
       "text": [
        " 0.029 0.132\n",
        "steal steel"
       ]
      },
      {
       "output_type": "stream",
       "stream": "stdout",
       "text": [
        " 0.152 0.152\n",
        "boarder border"
       ]
      },
      {
       "output_type": "stream",
       "stream": "stdout",
       "text": [
        " 0.652 0.676\n",
        "tied tide"
       ]
      },
      {
       "output_type": "stream",
       "stream": "stdout",
       "text": [
        " 0.471 0.478\n",
        "pairs pears"
       ]
      },
      {
       "output_type": "stream",
       "stream": "stdout",
       "text": [
        " 0.921 0.804\n",
        "suite sweet"
       ]
      },
      {
       "output_type": "stream",
       "stream": "stdout",
       "text": [
        " 0.868 0.776\n",
        "peaking peeking"
       ]
      },
      {
       "output_type": "stream",
       "stream": "stdout",
       "text": [
        " 0.0 0.043\n",
        "sell cell"
       ]
      },
      {
       "output_type": "stream",
       "stream": "stdout",
       "text": [
        " 0.405 0.39\n",
        "board bored"
       ]
      },
      {
       "output_type": "stream",
       "stream": "stdout",
       "text": [
        " 0.0 0.0\n",
        "tale tail"
       ]
      },
      {
       "output_type": "stream",
       "stream": "stdout",
       "text": [
        " 0.0 0.0\n",
        "stares stairs"
       ]
      },
      {
       "output_type": "stream",
       "stream": "stdout",
       "text": [
        " 0.747 0.703\n",
        "bear bare"
       ]
      },
      {
       "output_type": "stream",
       "stream": "stdout",
       "text": [
        " 0.464 0.464\n",
        "wit whit"
       ]
      },
      {
       "output_type": "stream",
       "stream": "stdout",
       "text": [
        " 0.037 0.175\n",
        "see sea"
       ]
      },
      {
       "output_type": "stream",
       "stream": "stdout",
       "text": [
        " 0.73 0.688\n",
        "hole whole"
       ]
      },
      {
       "output_type": "stream",
       "stream": "stdout",
       "text": [
        " 0.796 0.655\n",
        "pole poll"
       ]
      },
      {
       "output_type": "stream",
       "stream": "stdout",
       "text": [
        " 0.0 0.0\n",
        "peace piece"
       ]
      },
      {
       "output_type": "stream",
       "stream": "stdout",
       "text": [
        " 0.264 0.281\n",
        "wears wares"
       ]
      },
      {
       "output_type": "stream",
       "stream": "stdout",
       "text": [
        " 0.5 0.522\n",
        "pair pear"
       ]
      },
      {
       "output_type": "stream",
       "stream": "stdout",
       "text": [
        " 0.091 0.063\n"
       ]
      }
     ],
     "prompt_number": 123
    },
    {
     "cell_type": "code",
     "collapsed": false,
     "input": [],
     "language": "python",
     "metadata": {},
     "outputs": []
    },
    {
     "cell_type": "code",
     "collapsed": false,
     "input": [
      "round(numpy.mean([ rer(q['majority'], q['kfold_acc']) for q in qs]),3)"
     ],
     "language": "python",
     "metadata": {},
     "outputs": [
      {
       "metadata": {},
       "output_type": "pyout",
       "prompt_number": 128,
       "text": [
        "0.416"
       ]
      }
     ],
     "prompt_number": 128
    },
    {
     "cell_type": "code",
     "collapsed": false,
     "input": [
      "round(numpy.mean([ rer(r['kfold_acc'], q['kfold_acc']) for r,q in zip(rs, qs)]),3)"
     ],
     "language": "python",
     "metadata": {},
     "outputs": [
      {
       "metadata": {},
       "output_type": "pyout",
       "prompt_number": 129,
       "text": [
        "0.402"
       ]
      }
     ],
     "prompt_number": 129
    },
    {
     "cell_type": "code",
     "collapsed": false,
     "input": [
      "def test_all(model, sent, homonym):\n",
      "    rs = []\n",
      "    qs = []\n",
      "    for H in homonym:\n",
      "        r = test_homonym(H, model, sent, audio=True)\n",
      "        q = test_homonym(H, model, sent, audio=False)\n",
      "        rs.append(r)\n",
      "        qs.append(q)\n",
      "    mean_rer_maj = round(numpy.mean([ rer(q['majority'], q['kfold_acc']) for q in qs]),3)\n",
      "    mean_rer_mfcc = round(numpy.mean([ rer(r['kfold_acc'], q['kfold_acc']) for r,q in zip(rs, qs)]),3)\n",
      "    return (mean_rer_maj, mean_rer_mfcc)"
     ],
     "language": "python",
     "metadata": {},
     "outputs": [],
     "prompt_number": 134
    },
    {
     "cell_type": "code",
     "collapsed": false,
     "input": [
      "model_gru = task.load(\"/home/gchrupala/reimaginet/run-speech-vendrov-3/model.9.zip\")"
     ],
     "language": "python",
     "metadata": {},
     "outputs": [],
     "prompt_number": 131
    },
    {
     "cell_type": "code",
     "collapsed": false,
     "input": [
      "test_all(model_gru, sent, homonym)"
     ],
     "language": "python",
     "metadata": {},
     "outputs": [
      {
       "metadata": {},
       "output_type": "pyout",
       "prompt_number": 135,
       "text": [
        "(0.412, 0.398)"
       ]
      }
     ],
     "prompt_number": 135
    },
    {
     "cell_type": "code",
     "collapsed": false,
     "input": [],
     "language": "python",
     "metadata": {},
     "outputs": []
    }
   ],
   "metadata": {}
  }
 ]
}