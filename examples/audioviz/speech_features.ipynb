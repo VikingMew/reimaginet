{
 "metadata": {
  "name": "",
  "signature": "sha256:ca0e6bd68580b3af84eecb7bd6e50c3314a32747fca59dd88b4b062b7b29aa42"
 },
 "nbformat": 3,
 "nbformat_minor": 0,
 "worksheets": [
  {
   "cells": [
    {
     "cell_type": "code",
     "collapsed": false,
     "input": [
      "import numpy\n",
      "import imaginet.task as task\n",
      "import imaginet.defn.audiovis_rhn as audiovis\n",
      "import imaginet.defn.audiovis4 as a4"
     ],
     "language": "python",
     "metadata": {},
     "outputs": [],
     "prompt_number": 18
    },
    {
     "cell_type": "markdown",
     "metadata": {},
     "source": [
      "Load two models:\n",
      "- RHN model on flickr8K human speech, with MFCC features + first and second differences (`mfcc_accel`)\n",
      "- RHN model on coco synthetic speech, with plain MFCC features (`mfcc`)"
     ]
    },
    {
     "cell_type": "code",
     "collapsed": false,
     "input": [
      "model_f = task.load(\"/home/gchrupala/reimaginet/examples/audioviz/human-mfcc-rhn-flickr8k.zip\")"
     ],
     "language": "python",
     "metadata": {},
     "outputs": [],
     "prompt_number": 19
    },
    {
     "cell_type": "code",
     "collapsed": false,
     "input": [
      "# RHN\n",
      "model_c = task.load(\"/home/gchrupala/reimaginet/run-rhn-coco-8/model.r.e8.zip\")\n",
      "\n",
      "# GRU\n",
      "model_g = task.load(\"/home/gchrupala/reimaginet/run-speech-vendrov-3/model.9.zip\")"
     ],
     "language": "python",
     "metadata": {},
     "outputs": [],
     "prompt_number": 20
    },
    {
     "cell_type": "markdown",
     "metadata": {},
     "source": [
      "## Synthesize speech\n",
      "\n",
      "### Read MEN data"
     ]
    },
    {
     "cell_type": "code",
     "collapsed": false,
     "input": [
      "def read_men():\n",
      "    records = []\n",
      "    for line in open(\"/home/gchrupala/reimaginet/data/MEN/MEN_dataset_natural_form_full\"):\n",
      "        word1, word2, score = line.split()\n",
      "        records.append((word1, word2, float(score)))\n",
      "    return records\n",
      "MEN = read_men()"
     ],
     "language": "python",
     "metadata": {},
     "outputs": [],
     "prompt_number": 21
    },
    {
     "cell_type": "markdown",
     "metadata": {},
     "source": [
      "Synthesize speech for all the words in MEN"
     ]
    },
    {
     "cell_type": "code",
     "collapsed": false,
     "input": [
      "import imaginet.tts as tts\n",
      "\n",
      "def synthesize(text):\n",
      "    return tts.decodemp3(tts.speak(text))\n",
      "\n",
      "def speak(data):\n",
      "    voc = set()\n",
      "    for (w1,w2,_) in data:\n",
      "        voc.add(w1)\n",
      "        voc.add(w2)\n",
      "    voc = list(voc)\n",
      "    speech = [ synthesize(word) for word in voc ]\n",
      "    return (voc, speech)"
     ],
     "language": "python",
     "metadata": {},
     "outputs": [],
     "prompt_number": 22
    },
    {
     "cell_type": "markdown",
     "metadata": {},
     "source": [
      "# Synthesize speech"
     ]
    },
    {
     "cell_type": "code",
     "collapsed": false,
     "input": [
      "import cPickle as pickle"
     ],
     "language": "python",
     "metadata": {},
     "outputs": [],
     "prompt_number": 23
    },
    {
     "cell_type": "markdown",
     "metadata": {},
     "source": [
      "Synthesize and save for reuse.\n",
      "This is slow, so we'll comment it out and use pre-synthesize speech"
     ]
    },
    {
     "cell_type": "code",
     "collapsed": false,
     "input": [
      "# voc_men, speech_men = speak(MEN)\n",
      "#\n",
      "\n",
      "# pickle.dump(voc_men, open(\"/home/gchrupala/reimaginet/data/MEN/voc.pkl\",\"w\"),\n",
      "#            protocol=pickle.HIGHEST_PROTOCOL)\n",
      "# pickle.dump(speech_men, open(\"/home/gchrupala/reimaginet/data/MEN/speech.pkl\",\"w\"),\n",
      "#            protocol=pickle.HIGHEST_PROTOCOL)"
     ],
     "language": "python",
     "metadata": {},
     "outputs": [],
     "prompt_number": 24
    },
    {
     "cell_type": "code",
     "collapsed": false,
     "input": [
      "voc_men = pickle.load(open(\"/home/gchrupala/reimaginet/data/MEN/voc.pkl\"))\n",
      "speech_men = pickle.load(open(\"/home/gchrupala/reimaginet/data/MEN/speech.pkl\"))"
     ],
     "language": "python",
     "metadata": {},
     "outputs": [],
     "prompt_number": 25
    },
    {
     "cell_type": "markdown",
     "metadata": {},
     "source": [
      "## Extract `mfcc` and `mfcc_accel` features"
     ]
    },
    {
     "cell_type": "code",
     "collapsed": false,
     "input": [
      "mfcc_men = [ tts.extract_mfcc(audio) for audio in speech_men ]"
     ],
     "language": "python",
     "metadata": {},
     "outputs": [],
     "prompt_number": 26
    },
    {
     "cell_type": "code",
     "collapsed": false,
     "input": [
      "mfcc_accel_men = tts.add_accel(mfcc_men)"
     ],
     "language": "python",
     "metadata": {},
     "outputs": [],
     "prompt_number": 27
    },
    {
     "cell_type": "code",
     "collapsed": false,
     "input": [
      "mfcc_men[1].shape"
     ],
     "language": "python",
     "metadata": {},
     "outputs": [
      {
       "metadata": {},
       "output_type": "pyout",
       "prompt_number": 28,
       "text": [
        "(69, 13)"
       ]
      }
     ],
     "prompt_number": 28
    },
    {
     "cell_type": "markdown",
     "metadata": {},
     "source": [
      "`mfcc_accel` adds first order and second order differences, or rate or change and acceleration of the MFCC coefficients. "
     ]
    },
    {
     "cell_type": "code",
     "collapsed": false,
     "input": [
      "mfcc_accel_men[1].shape"
     ],
     "language": "python",
     "metadata": {},
     "outputs": [
      {
       "metadata": {},
       "output_type": "pyout",
       "prompt_number": 29,
       "text": [
        "(69, 37)"
       ]
      }
     ],
     "prompt_number": 29
    },
    {
     "cell_type": "markdown",
     "metadata": {},
     "source": [
      "## Compute word embeddings"
     ]
    },
    {
     "cell_type": "code",
     "collapsed": false,
     "input": [
      "embeddings_f = audiovis.encode_sentences(model_f, mfcc_accel_men)"
     ],
     "language": "python",
     "metadata": {},
     "outputs": [],
     "prompt_number": 30
    },
    {
     "cell_type": "code",
     "collapsed": false,
     "input": [
      "embeddings_c = audiovis.encode_sentences(model_c, mfcc_men)\n",
      "embeddings_g = audiovis.encode_sentences(model_g, mfcc_men)"
     ],
     "language": "python",
     "metadata": {},
     "outputs": [],
     "prompt_number": 31
    },
    {
     "cell_type": "markdown",
     "metadata": {},
     "source": [
      "## Compute correlations with MEN judgments"
     ]
    },
    {
     "cell_type": "code",
     "collapsed": false,
     "input": [
      "from scipy.spatial.distance import cosine\n",
      "from scipy.stats import spearmanr\n",
      "def correlation(voc, emb, ratings):\n",
      "    REP = dict(zip(voc, emb))\n",
      "    sim = [ 1-cosine(REP[w1],REP[w2]) for (w1,w2,_) in ratings ]\n",
      "    score = [s for (_,_,s) in ratings]\n",
      "    return spearmanr(score, sim)"
     ],
     "language": "python",
     "metadata": {},
     "outputs": [],
     "prompt_number": 32
    },
    {
     "cell_type": "code",
     "collapsed": false,
     "input": [
      "print(correlation(voc_men, embeddings_c, MEN))\n",
      "print(correlation(voc_men, embeddings_g, MEN))"
     ],
     "language": "python",
     "metadata": {},
     "outputs": [
      {
       "output_type": "stream",
       "stream": "stdout",
       "text": [
        "SpearmanrResult(correlation=0.16923116191722518, pvalue=1.0320903117884263e-20)\n",
        "SpearmanrResult(correlation=0.23208217877191567, pvalue=5.6366169686918221e-38)"
       ]
      },
      {
       "output_type": "stream",
       "stream": "stdout",
       "text": [
        "\n"
       ]
      }
     ],
     "prompt_number": 33
    },
    {
     "cell_type": "code",
     "collapsed": false,
     "input": [
      "correlation(voc_men, embeddings_f, MEN)"
     ],
     "language": "python",
     "metadata": {},
     "outputs": [
      {
       "metadata": {},
       "output_type": "pyout",
       "prompt_number": 34,
       "text": [
        "SpearmanrResult(correlation=0.052302840127719075, pvalue=0.0041633549540002783)"
       ]
      }
     ],
     "prompt_number": 34
    },
    {
     "cell_type": "code",
     "collapsed": false,
     "input": [],
     "language": "python",
     "metadata": {},
     "outputs": [],
     "prompt_number": 34
    },
    {
     "cell_type": "code",
     "collapsed": false,
     "input": [],
     "language": "python",
     "metadata": {},
     "outputs": []
    }
   ],
   "metadata": {}
  }
 ]
}