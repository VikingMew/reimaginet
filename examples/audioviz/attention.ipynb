{
 "metadata": {
  "name": "",
  "signature": "sha256:314985a5bdadea2a7db79b2049079294dc7611fb2bc51a6676d302b63cf7edeb"
 },
 "nbformat": 3,
 "nbformat_minor": 0,
 "worksheets": [
  {
   "cells": [
    {
     "cell_type": "code",
     "collapsed": false,
     "input": [
      "import numpy\n",
      "import imaginet.task as task\n",
      "import imaginet.defn.audiovis_rhn as audiovis"
     ],
     "language": "python",
     "metadata": {},
     "outputs": [
      {
       "output_type": "stream",
       "stream": "stderr",
       "text": [
        "Using gpu device 2: GeForce GTX 980 Ti (CNMeM is disabled, cuDNN 5005)\n"
       ]
      }
     ],
     "prompt_number": 1
    },
    {
     "cell_type": "code",
     "collapsed": false,
     "input": [
      "import imaginet.vendrov_provider as dp\n",
      "prov = dp.getDataProvider(dataset='coco', root='/home/gchrupala/reimaginet/')"
     ],
     "language": "python",
     "metadata": {},
     "outputs": [],
     "prompt_number": 2
    },
    {
     "cell_type": "code",
     "collapsed": false,
     "input": [
      "sent = list(prov.iterSentences(split='val'))"
     ],
     "language": "python",
     "metadata": {},
     "outputs": [],
     "prompt_number": 3
    },
    {
     "cell_type": "code",
     "collapsed": false,
     "input": [
      "model = task.load(\"/home/gchrupala/reimaginet/run-rhn-coco-9-resume/model.r.e9.zip\")"
     ],
     "language": "python",
     "metadata": {},
     "outputs": [],
     "prompt_number": 4
    },
    {
     "cell_type": "code",
     "collapsed": false,
     "input": [
      "import imaginet.tts as tts\n",
      "\n",
      "def synthesize(text):\n",
      "    return tts.decodemp3(tts.speak(text))\n",
      "\n",
      "def speak(data):\n",
      "    voc = set()\n",
      "    for (w1,w2,_) in data:\n",
      "        voc.add(w1)\n",
      "        voc.add(w2)\n",
      "    voc = list(voc)\n",
      "    speech = [ synthesize(word) for word in voc ]\n",
      "    return (voc, speech)"
     ],
     "language": "python",
     "metadata": {},
     "outputs": [],
     "prompt_number": 5
    },
    {
     "cell_type": "code",
     "collapsed": false,
     "input": [
      "import pydub"
     ],
     "language": "python",
     "metadata": {},
     "outputs": [],
     "prompt_number": 6
    },
    {
     "cell_type": "code",
     "collapsed": false,
     "input": [
      "import funktional.context as context\n",
      "import theano"
     ],
     "language": "python",
     "metadata": {},
     "outputs": [],
     "prompt_number": 7
    },
    {
     "cell_type": "code",
     "collapsed": false,
     "input": [
      "from funktional.layer import softmax_time\n",
      "def _make_attention(model):\n",
      "    with context.context(training=False):\n",
      "        task = model.task\n",
      "        rep = task.Encode(*task.inputs)\n",
      "        alpha = softmax_time(task.Attn.Regress2(task.Attn.activation(task.Attn.Regress1(rep))))\n",
      "    return theano.function(task.inputs, alpha)"
     ],
     "language": "python",
     "metadata": {},
     "outputs": [],
     "prompt_number": 8
    },
    {
     "cell_type": "code",
     "collapsed": false,
     "input": [
      "attention = _make_attention(model)"
     ],
     "language": "python",
     "metadata": {},
     "outputs": [],
     "prompt_number": 9
    },
    {
     "cell_type": "code",
     "collapsed": false,
     "input": [
      "%pylab inline"
     ],
     "language": "python",
     "metadata": {},
     "outputs": [
      {
       "output_type": "stream",
       "stream": "stdout",
       "text": [
        "Populating the interactive namespace from numpy and matplotlib\n"
       ]
      }
     ],
     "prompt_number": 10
    },
    {
     "cell_type": "code",
     "collapsed": false,
     "input": [
      "s = 'A baby sits on a bed laughing with a laptop computer open'"
     ],
     "language": "python",
     "metadata": {},
     "outputs": [],
     "prompt_number": 11
    },
    {
     "cell_type": "code",
     "collapsed": false,
     "input": [
      "sound = tts.from_mp3(tts.speak(s))"
     ],
     "language": "python",
     "metadata": {},
     "outputs": [],
     "prompt_number": 12
    },
    {
     "cell_type": "code",
     "collapsed": false,
     "input": [
      "alpha = attention([tts.extract_mfcc(synthesize(s))])[0,:,0]"
     ],
     "language": "python",
     "metadata": {},
     "outputs": [],
     "prompt_number": 13
    },
    {
     "cell_type": "code",
     "collapsed": false,
     "input": [
      "def plot_attention(text):\n",
      "    alpha = attention([tts.extract_mfcc(synthesize(text))])[0,:,0]\n",
      "    figure(figsize=(15,1))\n",
      "    yticks([])\n",
      "    plot(range(0, len(alpha)*30, 30), alpha)"
     ],
     "language": "python",
     "metadata": {},
     "outputs": [],
     "prompt_number": 55
    },
    {
     "cell_type": "code",
     "collapsed": false,
     "input": [
      "mfcc = tts.extract_mfcc(synthesize(s))\n",
      "mfcc.shape"
     ],
     "language": "python",
     "metadata": {},
     "outputs": [
      {
       "metadata": {},
       "output_type": "pyout",
       "prompt_number": 21,
       "text": [
        "(433, 13)"
       ]
      }
     ],
     "prompt_number": 21
    },
    {
     "cell_type": "code",
     "collapsed": false,
     "input": [
      "sound[50:100]"
     ],
     "language": "python",
     "metadata": {},
     "outputs": [
      {
       "html": [
        "\n",
        "                    <audio controls>\n",
        "                        <source src=\"data:audio/mpeg;base64,SUQzBAAAAAAAI1RTU0UAAAAPAAADTGF2ZjU2LjE1LjEwMgAAAAAAAAAAAAAA//OEwAAAAAAAAAAAAEluZm8AAAAPAAAABQAAAqAAbW1tbW1tbW1tbW1tbW1tbW1tbZKSkpKSkpKSkpKSkpKSkpKSkpKStra2tra2tra2tra2tra2tra2trbb29vb29vb29vb29vb29vb29vb2///////////////////////////AAAAAExhdmM1Ni4xMwAAAAAAAAAAAAAAACQAAAAAAAAAAAKgDxn50QAAAAAAAAAAAAAAAAAAAAAAAAAAAAAA//NExAAQinX8IUYQASbAIAAAEEIi7u7u7sghHsmTTvkJ5/////nP/oQjKACCf5CEb//q/75CMpCZ38gQAABBMjKcDAwMDAwAAEEQAAGHh6oNDCAKvacuOcI5/rJfyP/z//NExBAV6mJsMY+AAXJYwdE+gDbMMIC7+g0LIBwiyw4/5mbm7oDMCtB3jOFX/6ZFzdNJZFP6aCG8dCBoaIur//+xFC4vYuf/9PdP0EzMmFkUNEAEvYkcMNN/+8cgAKn8//NExAsVAlbZlYxQAZVwFKGC9fJOoTLji2DEWEUKoxcKjkpIK50SRXHwslWCWLQtmK6Drq8FxTpr/f05pY5f3IL6EQxKXbo2nQ7+cv+xjN1/Zf0zSZbjlNmgCiRIkAgE//NExAoU6jK418YYAwIkSmSJEAkUc9EiRKvJpFj/ChQEBMKAgICqqv9VV/VV9mZVUv/jMzM3///YbMzMzKq+zM1/jH///VZmb6qt+AgoKFeCgvxQX+AqTEFNRTMuOTku//NExAkAAANIAAAAADWqqqqqqqqqqqqqqqqqqqqqqqqqqqqqqqqqqqqqqqqqqqqqqqqqqqqqqqqqqqqqqqqqqqqqqqqqqqqqqqqqqqqqqqqqqqqqqqqqqqqqqqqqqqqq\" type=\"audio/mpeg\"/>\n",
        "                        Your browser does not support the audio element.\n",
        "                    </audio>\n",
        "                  "
       ],
       "metadata": {},
       "output_type": "pyout",
       "prompt_number": 42,
       "text": [
        "<pydub.audio_segment.AudioSegment at 0x7f4fc1b21310>"
       ]
      }
     ],
     "prompt_number": 42
    },
    {
     "cell_type": "code",
     "collapsed": false,
     "input": [
      "alpha.shape[0]*30"
     ],
     "language": "python",
     "metadata": {},
     "outputs": [
      {
       "metadata": {},
       "output_type": "pyout",
       "prompt_number": 38,
       "text": [
        "4380"
       ]
      }
     ],
     "prompt_number": 38
    },
    {
     "cell_type": "code",
     "collapsed": false,
     "input": [
      "mfcc.shape[0]*10"
     ],
     "language": "python",
     "metadata": {},
     "outputs": [
      {
       "metadata": {},
       "output_type": "pyout",
       "prompt_number": 37,
       "text": [
        "4330"
       ]
      }
     ],
     "prompt_number": 37
    },
    {
     "cell_type": "code",
     "collapsed": false,
     "input": [
      "plot(range(0,len(alpha)*30, 30), alpha)"
     ],
     "language": "python",
     "metadata": {},
     "outputs": [
      {
       "metadata": {},
       "output_type": "pyout",
       "prompt_number": 24,
       "text": [
        "[<matplotlib.lines.Line2D at 0x7f4fc1b88810>]"
       ]
      },
      {
       "metadata": {},
       "output_type": "display_data",
       "png": "[encoded data removed]",
       "text": [
        "<matplotlib.figure.Figure at 0x7f4fc1f83650>"
       ]
      }
     ],
     "prompt_number": 24
    },
    {
     "cell_type": "code",
     "collapsed": false,
     "input": [
      "sound.export('baby.wav', format='wav')"
     ],
     "language": "python",
     "metadata": {},
     "outputs": [
      {
       "metadata": {},
       "output_type": "pyout",
       "prompt_number": 114,
       "text": [
        "<open file 'baby.wav', mode 'wb+' at 0x7f20819c6c00>"
       ]
      }
     ],
     "prompt_number": 114
    },
    {
     "cell_type": "code",
     "collapsed": false,
     "input": [
      "alpha.repeat(30)[1380-40:1380+100]"
     ],
     "language": "python",
     "metadata": {},
     "outputs": [
      {
       "metadata": {},
       "output_type": "pyout",
       "prompt_number": 135,
       "text": [
        "array([ 0.00952864,  0.00952864,  0.00952864,  0.00952864,  0.00952864,\n",
        "        0.00952864,  0.00952864,  0.00952864,  0.00952864,  0.00952864,\n",
        "        0.02235831,  0.02235831,  0.02235831,  0.02235831,  0.02235831,\n",
        "        0.02235831,  0.02235831,  0.02235831,  0.02235831,  0.02235831,\n",
        "        0.02235831,  0.02235831,  0.02235831,  0.02235831,  0.02235831,\n",
        "        0.02235831,  0.02235831,  0.02235831,  0.02235831,  0.02235831,\n",
        "        0.02235831,  0.02235831,  0.02235831,  0.02235831,  0.02235831,\n",
        "        0.02235831,  0.02235831,  0.02235831,  0.02235831,  0.02235831,\n",
        "        0.0246903 ,  0.0246903 ,  0.0246903 ,  0.0246903 ,  0.0246903 ,\n",
        "        0.0246903 ,  0.0246903 ,  0.0246903 ,  0.0246903 ,  0.0246903 ,\n",
        "        0.0246903 ,  0.0246903 ,  0.0246903 ,  0.0246903 ,  0.0246903 ,\n",
        "        0.0246903 ,  0.0246903 ,  0.0246903 ,  0.0246903 ,  0.0246903 ,\n",
        "        0.0246903 ,  0.0246903 ,  0.0246903 ,  0.0246903 ,  0.0246903 ,\n",
        "        0.0246903 ,  0.0246903 ,  0.0246903 ,  0.0246903 ,  0.0246903 ,\n",
        "        0.02096539,  0.02096539,  0.02096539,  0.02096539,  0.02096539,\n",
        "        0.02096539,  0.02096539,  0.02096539,  0.02096539,  0.02096539,\n",
        "        0.02096539,  0.02096539,  0.02096539,  0.02096539,  0.02096539,\n",
        "        0.02096539,  0.02096539,  0.02096539,  0.02096539,  0.02096539,\n",
        "        0.02096539,  0.02096539,  0.02096539,  0.02096539,  0.02096539,\n",
        "        0.02096539,  0.02096539,  0.02096539,  0.02096539,  0.02096539,\n",
        "        0.0199234 ,  0.0199234 ,  0.0199234 ,  0.0199234 ,  0.0199234 ,\n",
        "        0.0199234 ,  0.0199234 ,  0.0199234 ,  0.0199234 ,  0.0199234 ,\n",
        "        0.0199234 ,  0.0199234 ,  0.0199234 ,  0.0199234 ,  0.0199234 ,\n",
        "        0.0199234 ,  0.0199234 ,  0.0199234 ,  0.0199234 ,  0.0199234 ,\n",
        "        0.0199234 ,  0.0199234 ,  0.0199234 ,  0.0199234 ,  0.0199234 ,\n",
        "        0.0199234 ,  0.0199234 ,  0.0199234 ,  0.0199234 ,  0.0199234 ,\n",
        "        0.0190598 ,  0.0190598 ,  0.0190598 ,  0.0190598 ,  0.0190598 ,\n",
        "        0.0190598 ,  0.0190598 ,  0.0190598 ,  0.0190598 ,  0.0190598 ], dtype=float32)"
       ]
      }
     ],
     "prompt_number": 135
    },
    {
     "cell_type": "code",
     "collapsed": false,
     "input": [
      "alpha.repeat(30).argmax()"
     ],
     "language": "python",
     "metadata": {},
     "outputs": [
      {
       "metadata": {},
       "output_type": "pyout",
       "prompt_number": 122,
       "text": [
        "1380"
       ]
      }
     ],
     "prompt_number": 122
    },
    {
     "cell_type": "code",
     "collapsed": false,
     "input": [
      "import textgrid"
     ],
     "language": "python",
     "metadata": {},
     "outputs": [],
     "prompt_number": 139
    },
    {
     "cell_type": "code",
     "collapsed": false,
     "input": [
      "grid = textgrid.TextGrid.fromFile(\"baby.TextGrid\")"
     ],
     "language": "python",
     "metadata": {},
     "outputs": [],
     "prompt_number": 141
    },
    {
     "cell_type": "code",
     "collapsed": false,
     "input": [
      "tier = grid.tiers[0]"
     ],
     "language": "python",
     "metadata": {},
     "outputs": [],
     "prompt_number": 147
    },
    {
     "cell_type": "code",
     "collapsed": false,
     "input": [
      "bounds = [ iv.minTime for iv in tier ]"
     ],
     "language": "python",
     "metadata": {},
     "outputs": [],
     "prompt_number": 194
    },
    {
     "cell_type": "code",
     "collapsed": false,
     "input": [
      "marks = [ iv.mark for iv in tier ]"
     ],
     "language": "python",
     "metadata": {},
     "outputs": [],
     "prompt_number": 195
    },
    {
     "cell_type": "code",
     "collapsed": false,
     "input": [
      "x=range(0,len(alpha)*30, 30)"
     ],
     "language": "python",
     "metadata": {},
     "outputs": [],
     "prompt_number": 196
    },
    {
     "cell_type": "code",
     "collapsed": false,
     "input": [
      "figure(figsize=(15,1))\n",
      "plot(x,alpha)\n",
      "yticks([],[])\n",
      "xticks(numpy.array(bounds)*1000, marks)"
     ],
     "language": "python",
     "metadata": {},
     "outputs": [
      {
       "metadata": {},
       "output_type": "pyout",
       "prompt_number": 202,
       "text": [
        "([<matplotlib.axis.XTick at 0x7f207635ae10>,\n",
        "  <matplotlib.axis.XTick at 0x7f20764e4610>,\n",
        "  <matplotlib.axis.XTick at 0x7f20760c72d0>,\n",
        "  <matplotlib.axis.XTick at 0x7f20760c7910>,\n",
        "  <matplotlib.axis.XTick at 0x7f20760d2090>,\n",
        "  <matplotlib.axis.XTick at 0x7f20760d27d0>,\n",
        "  <matplotlib.axis.XTick at 0x7f20760d2f10>,\n",
        "  <matplotlib.axis.XTick at 0x7f20760dc690>,\n",
        "  <matplotlib.axis.XTick at 0x7f20760dcdd0>,\n",
        "  <matplotlib.axis.XTick at 0x7f2076066550>,\n",
        "  <matplotlib.axis.XTick at 0x7f2076066c90>,\n",
        "  <matplotlib.axis.XTick at 0x7f207606f410>,\n",
        "  <matplotlib.axis.XTick at 0x7f207606fb50>],\n",
        " <a list of 13 Text xticklabel objects>)"
       ]
      },
      {
       "metadata": {},
       "output_type": "display_data",
       "png": "[encoded data removed]",
       "text": [
        "<matplotlib.figure.Figure at 0x7f207631f3d0>"
       ]
      }
     ],
     "prompt_number": 202
    },
    {
     "cell_type": "code",
     "collapsed": false,
     "input": [
      "figure(figsize=(15,1))\n",
      "yticks([])\n",
      "plot(range(0,len(alpha)*30,30),alpha)"
     ],
     "language": "python",
     "metadata": {},
     "outputs": [
      {
       "metadata": {},
       "output_type": "pyout",
       "prompt_number": 47,
       "text": [
        "[<matplotlib.lines.Line2D at 0x7f4fc1949710>]"
       ]
      },
      {
       "metadata": {},
       "output_type": "display_data",
       "png": "[encoded data removed]",
       "text": [
        "<matplotlib.figure.Figure at 0x7f4fc188a150>"
       ]
      }
     ],
     "prompt_number": 47
    },
    {
     "cell_type": "code",
     "collapsed": false,
     "input": [
      "sent[1]['raw']"
     ],
     "language": "python",
     "metadata": {},
     "outputs": [
      {
       "metadata": {},
       "output_type": "pyout",
       "prompt_number": 51,
       "text": [
        "'a young man holding an umbrella next to a herd of cattle'"
       ]
      }
     ],
     "prompt_number": 51
    },
    {
     "cell_type": "code",
     "collapsed": false,
     "input": [
      "plot_attention(sent[1]['raw'])"
     ],
     "language": "python",
     "metadata": {},
     "outputs": [
      {
       "metadata": {},
       "output_type": "display_data",
       "png": "[encoded data removed]",
       "text": [
        "<matplotlib.figure.Figure at 0x7f4fc17d2790>"
       ]
      }
     ],
     "prompt_number": 56
    },
    {
     "cell_type": "code",
     "collapsed": false,
     "input": [
      "plot_attention(\"a frame on the wall\")"
     ],
     "language": "python",
     "metadata": {},
     "outputs": [
      {
       "metadata": {},
       "output_type": "display_data",
       "png": "[encoded data removed]",
       "text": [
        "<matplotlib.figure.Figure at 0x7f4fc17d2f50>"
       ]
      }
     ],
     "prompt_number": 57
    },
    {
     "cell_type": "code",
     "collapsed": false,
     "input": [
      "plot_attention(\"a dog is nice\")"
     ],
     "language": "python",
     "metadata": {},
     "outputs": [
      {
       "metadata": {},
       "output_type": "display_data",
       "png": "[encoded data removed]",
       "text": [
        "<matplotlib.figure.Figure at 0x7f4fc18373d0>"
       ]
      }
     ],
     "prompt_number": 58
    },
    {
     "cell_type": "code",
     "collapsed": false,
     "input": [
      "plot_attention(\"a dog is black\")"
     ],
     "language": "python",
     "metadata": {},
     "outputs": [
      {
       "metadata": {},
       "output_type": "display_data",
       "png": "[encoded data removed]",
       "text": [
        "<matplotlib.figure.Figure at 0x7f4fc0af6cd0>"
       ]
      }
     ],
     "prompt_number": 59
    },
    {
     "cell_type": "code",
     "collapsed": false,
     "input": [
      "plot_attention(\"a dog is brown\")"
     ],
     "language": "python",
     "metadata": {},
     "outputs": [
      {
       "metadata": {},
       "output_type": "display_data",
       "png": "[encoded data removed]",
       "text": [
        "<matplotlib.figure.Figure at 0x7f4fc0a175d0>"
       ]
      }
     ],
     "prompt_number": 60
    },
    {
     "cell_type": "code",
     "collapsed": false,
     "input": [
      "plot_attention(\"a cat sat on the floor\")"
     ],
     "language": "python",
     "metadata": {},
     "outputs": [
      {
       "metadata": {},
       "output_type": "display_data",
       "png": "[encoded data removed]",
       "text": [
        "<matplotlib.figure.Figure at 0x7f4fc012e390>"
       ]
      }
     ],
     "prompt_number": 82
    },
    {
     "cell_type": "code",
     "collapsed": false,
     "input": [
      "sound = tts.from_mp3(tts.speak(\"a cat sat on the floor\"))"
     ],
     "language": "python",
     "metadata": {},
     "outputs": [],
     "prompt_number": 83
    },
    {
     "cell_type": "code",
     "collapsed": false,
     "input": [
      "sound[300:600]"
     ],
     "language": "python",
     "metadata": {},
     "outputs": [
      {
       "html": [
        "\n",
        "                    <audio controls>\n",
        "                        <source src=\"data:audio/mpeg;base64,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\" type=\"audio/mpeg\"/>\n",
        "                        Your browser does not support the audio element.\n",
        "                    </audio>\n",
        "                  "
       ],
       "metadata": {},
       "output_type": "pyout",
       "prompt_number": 84,
       "text": [
        "<pydub.audio_segment.AudioSegment at 0x7f4fbbedbe10>"
       ]
      }
     ],
     "prompt_number": 84
    },
    {
     "cell_type": "code",
     "collapsed": false,
     "input": [
      "sound[1400:1750]"
     ],
     "language": "python",
     "metadata": {},
     "outputs": [
      {
       "html": [
        "\n",
        "                    <audio controls>\n",
        "                        <source src=\"data:audio/mpeg;base64,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\" type=\"audio/mpeg\"/>\n",
        "                        Your browser does not support the audio element.\n",
        "                    </audio>\n",
        "                  "
       ],
       "metadata": {},
       "output_type": "pyout",
       "prompt_number": 86,
       "text": [
        "<pydub.audio_segment.AudioSegment at 0x7f4fbbedbc50>"
       ]
      }
     ],
     "prompt_number": 86
    },
    {
     "cell_type": "code",
     "collapsed": false,
     "input": [
      "plot_attention(sent[123]['raw'])"
     ],
     "language": "python",
     "metadata": {},
     "outputs": [
      {
       "metadata": {},
       "output_type": "display_data",
       "png": "[encoded data removed]",
       "text": [
        "<matplotlib.figure.Figure at 0x7f4fc00b7bd0>"
       ]
      }
     ],
     "prompt_number": 88
    },
    {
     "cell_type": "code",
     "collapsed": false,
     "input": [
      "sound = tts.from_mp3(tts.speak(sent[123]['raw']))"
     ],
     "language": "python",
     "metadata": {},
     "outputs": [],
     "prompt_number": 90
    },
    {
     "cell_type": "code",
     "collapsed": false,
     "input": [
      "sound[800:1200]"
     ],
     "language": "python",
     "metadata": {},
     "outputs": [
      {
       "html": [
        "\n",
        "                    <audio controls>\n",
        "                        <source src=\"data:audio/mpeg;base64,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\" type=\"audio/mpeg\"/>\n",
        "                        Your browser does not support the audio element.\n",
        "                    </audio>\n",
        "                  "
       ],
       "metadata": {},
       "output_type": "pyout",
       "prompt_number": 93,
       "text": [
        "<pydub.audio_segment.AudioSegment at 0x7f4fbbedb650>"
       ]
      }
     ],
     "prompt_number": 93
    },
    {
     "cell_type": "code",
     "collapsed": false,
     "input": [
      "sound[1900:2400]"
     ],
     "language": "python",
     "metadata": {},
     "outputs": [
      {
       "html": [
        "\n",
        "                    <audio controls>\n",
        "                        <source src=\"data:audio/mpeg;base64,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\" type=\"audio/mpeg\"/>\n",
        "                        Your browser does not support the audio element.\n",
        "                    </audio>\n",
        "                  "
       ],
       "metadata": {},
       "output_type": "pyout",
       "prompt_number": 94,
       "text": [
        "<pydub.audio_segment.AudioSegment at 0x7f4fc1893850>"
       ]
      }
     ],
     "prompt_number": 94
    },
    {
     "cell_type": "code",
     "collapsed": false,
     "input": [
      "sent[321]['raw']"
     ],
     "language": "python",
     "metadata": {},
     "outputs": [
      {
       "metadata": {},
       "output_type": "pyout",
       "prompt_number": 97,
       "text": [
        "'three zebras walking through a grassland area together'"
       ]
      }
     ],
     "prompt_number": 97
    },
    {
     "cell_type": "code",
     "collapsed": false,
     "input": [
      "i=1023\n",
      "print(sent[i]['raw'])\n",
      "plot_attention(sent[i]['raw'])\n",
      "sound = tts.from_mp3(tts.speak(sent[i]['raw']))"
     ],
     "language": "python",
     "metadata": {},
     "outputs": [
      {
       "output_type": "stream",
       "stream": "stdout",
       "text": [
        "two people standing on a ski slope looking down the hill\n"
       ]
      },
      {
       "metadata": {},
       "output_type": "display_data",
       "png": "[encoded data removed]",
       "text": [
        "<matplotlib.figure.Figure at 0x7f4fbb222f50>"
       ]
      }
     ],
     "prompt_number": 109
    },
    {
     "cell_type": "code",
     "collapsed": false,
     "input": [
      "sound[1700:2300]"
     ],
     "language": "python",
     "metadata": {},
     "outputs": [
      {
       "html": [
        "\n",
        "                    <audio controls>\n",
        "                        <source src=\"data:audio/mpeg;base64,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\" type=\"audio/mpeg\"/>\n",
        "                        Your browser does not support the audio element.\n",
        "                    </audio>\n",
        "                  "
       ],
       "metadata": {},
       "output_type": "pyout",
       "prompt_number": 110,
       "text": [
        "<pydub.audio_segment.AudioSegment at 0x7f4fbbd49790>"
       ]
      }
     ],
     "prompt_number": 110
    },
    {
     "cell_type": "code",
     "collapsed": false,
     "input": [],
     "language": "python",
     "metadata": {},
     "outputs": []
    }
   ],
   "metadata": {}
  }
 ]
}