{
 "metadata": {
  "name": "",
  "signature": "sha256:f03495d63177a8ab433f10f1f27275291de0fb411ea628122c72a912ba475293"
 },
 "nbformat": 3,
 "nbformat_minor": 0,
 "worksheets": [
  {
   "cells": [
    {
     "cell_type": "code",
     "collapsed": false,
     "input": [
      "import numpy\n",
      "import imaginet.task as task\n",
      "import imaginet.defn.audiovis_rhn as audiovis\n",
      "import imaginet.defn.audiovis4 as a4\n",
      "import imaginet.tts as tts"
     ],
     "language": "python",
     "metadata": {},
     "outputs": [],
     "prompt_number": 5
    },
    {
     "cell_type": "code",
     "collapsed": false,
     "input": [
      "def read_men():\n",
      "    records = []\n",
      "    for line in open(\"/home/gchrupala/reimaginet/data/MEN/MEN_dataset_natural_form_full\"):\n",
      "        word1, word2, score = line.split()\n",
      "        records.append((word1, word2, float(score)))\n",
      "    return records\n",
      "MEN = read_men()"
     ],
     "language": "python",
     "metadata": {},
     "outputs": [],
     "prompt_number": 2
    },
    {
     "cell_type": "code",
     "collapsed": false,
     "input": [
      "import cPickle as pickle\n",
      "voc_men = pickle.load(open(\"/home/gchrupala/reimaginet/data/MEN/voc.pkl\"))\n",
      "speech_men = pickle.load(open(\"/home/gchrupala/reimaginet/data/MEN/speech.pkl\"))"
     ],
     "language": "python",
     "metadata": {},
     "outputs": [],
     "prompt_number": 3
    },
    {
     "cell_type": "code",
     "collapsed": false,
     "input": [
      "mfcc_men = [ tts.extract_mfcc(audio) for audio in speech_men ]"
     ],
     "language": "python",
     "metadata": {},
     "outputs": [],
     "prompt_number": 6
    },
    {
     "cell_type": "code",
     "collapsed": false,
     "input": [
      "from scipy.spatial.distance import cosine\n",
      "from scipy.stats import spearmanr\n",
      "def correlation(voc, emb, ratings):\n",
      "    REP = dict(zip(voc, emb))\n",
      "    sim = [ 1-cosine(REP[w1],REP[w2]) for (w1,w2,_) in ratings ]\n",
      "    score = [s for (_,_,s) in ratings]\n",
      "    return spearmanr(score, sim)"
     ],
     "language": "python",
     "metadata": {},
     "outputs": [],
     "prompt_number": 7
    },
    {
     "cell_type": "code",
     "collapsed": false,
     "input": [
      "print \"epoch r\"\n",
      "for epoch in range(1,11):\n",
      "    model = task.load(\"/home/gchrupala/reimaginet/run-speech-vendrov-3/model.{}.zip\".format(epoch))\n",
      "    embeddings = audiovis.encode_sentences(model, mfcc_men)\n",
      "    r = correlation(voc_men, embeddings, MEN)\n",
      "    print epoch, r"
     ],
     "language": "python",
     "metadata": {},
     "outputs": [
      {
       "output_type": "stream",
       "stream": "stdout",
       "text": [
        "epoch r\n",
        "1"
       ]
      },
      {
       "output_type": "stream",
       "stream": "stdout",
       "text": [
        " SpearmanrResult(correlation=0.13205787557923387, pvalue=3.8164105381963454e-13)\n",
        "2"
       ]
      },
      {
       "output_type": "stream",
       "stream": "stdout",
       "text": [
        " SpearmanrResult(correlation=0.15460361689299648, pvalue=1.6557723573170463e-17)\n",
        "3"
       ]
      },
      {
       "output_type": "stream",
       "stream": "stdout",
       "text": [
        " SpearmanrResult(correlation=0.20567206862028792, pvalue=5.1217318821138586e-30)\n",
        "4"
       ]
      },
      {
       "output_type": "stream",
       "stream": "stdout",
       "text": [
        " SpearmanrResult(correlation=0.18268372712581271, pvalue=6.3180601296737785e-24)\n",
        "5"
       ]
      },
      {
       "output_type": "stream",
       "stream": "stdout",
       "text": [
        " SpearmanrResult(correlation=0.19849107405065511, pvalue=4.9487316737990483e-28)\n",
        "6"
       ]
      },
      {
       "output_type": "stream",
       "stream": "stdout",
       "text": [
        " SpearmanrResult(correlation=0.20975510599672081, pvalue=3.523457950497284e-31)\n",
        "7"
       ]
      },
      {
       "output_type": "stream",
       "stream": "stdout",
       "text": [
        " SpearmanrResult(correlation=0.20593244676011355, pvalue=4.3253337705463053e-30)\n",
        "8"
       ]
      },
      {
       "output_type": "stream",
       "stream": "stdout",
       "text": [
        " SpearmanrResult(correlation=0.20930818410043009, pvalue=4.7359476249183197e-31)\n",
        "9"
       ]
      },
      {
       "output_type": "stream",
       "stream": "stdout",
       "text": [
        " SpearmanrResult(correlation=0.23208217877191567, pvalue=5.6366169686918221e-38)\n",
        "10"
       ]
      },
      {
       "output_type": "stream",
       "stream": "stdout",
       "text": [
        " SpearmanrResult(correlation=0.19105830342685881, pvalue=4.6783786180117401e-26)\n"
       ]
      }
     ],
     "prompt_number": 8
    },
    {
     "cell_type": "code",
     "collapsed": false,
     "input": [
      "print \"epoch r\"\n",
      "for epoch in range(1,5):\n",
      "    model = task.load(\"/home/gchrupala/reimaginet/run-rhn-coco-9/model.r.e{}.zip\".format(epoch))\n",
      "    embeddings = audiovis.encode_sentences(model, mfcc_men)\n",
      "    r = correlation(voc_men, embeddings, MEN)\n",
      "    print epoch, r"
     ],
     "language": "python",
     "metadata": {},
     "outputs": [
      {
       "output_type": "stream",
       "stream": "stdout",
       "text": [
        "epoch r\n",
        "1"
       ]
      },
      {
       "output_type": "stream",
       "stream": "stdout",
       "text": [
        " SpearmanrResult(correlation=0.15149958280130493, pvalue=7.2605666248901266e-17)\n",
        "2"
       ]
      },
      {
       "output_type": "stream",
       "stream": "stdout",
       "text": [
        " SpearmanrResult(correlation=0.20612591233024949, pvalue=3.8143421638521231e-30)\n",
        "3"
       ]
      },
      {
       "output_type": "stream",
       "stream": "stdout",
       "text": [
        " SpearmanrResult(correlation=0.23905382532217584, pvalue=2.980974107447766e-40)\n",
        "4"
       ]
      },
      {
       "output_type": "stream",
       "stream": "stdout",
       "text": [
        " SpearmanrResult(correlation=0.2502884277233256, pvalue=4.4426496659501698e-44)\n"
       ]
      }
     ],
     "prompt_number": 10
    },
    {
     "cell_type": "code",
     "collapsed": false,
     "input": [],
     "language": "python",
     "metadata": {},
     "outputs": []
    }
   ],
   "metadata": {}
  }
 ]
}