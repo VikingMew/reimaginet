{
 "metadata": {
  "name": "",
  "signature": "sha256:565a80cec3780544841e25320a99bf15ab309a15da1e02e01433087ef7fb2e38"
 },
 "nbformat": 3,
 "nbformat_minor": 0,
 "worksheets": [
  {
   "cells": [
    {
     "cell_type": "code",
     "collapsed": false,
     "input": [
      "import numpy\n",
      "import json\n",
      "import gzip\n",
      "import imaginet.tts as tts\n"
     ],
     "language": "python",
     "metadata": {},
     "outputs": [
      {
       "output_type": "stream",
       "stream": "stderr",
       "text": [
        "Using gpu device 0: GeForce GTX 980 Ti (CNMeM is enabled with initial size: 95.0% of memory, cuDNN 5110)\n",
        "/usr/local/lib/python2.7/dist-packages/Theano-0.9.0.dev2-py2.7.egg/theano/sandbox/cuda/__init__.py:601: UserWarning: Your cuDNN version is more recent than the one Theano officially supports. If you see any problems, try updating Theano or downgrading cuDNN to version 5.\n",
        "  warnings.warn(warn)\n"
       ]
      }
     ],
     "prompt_number": 1
    },
    {
     "cell_type": "code",
     "collapsed": false,
     "input": [
      "import base64\n",
      "with gzip.open(\"dataset.mp3.jsonl.gz\") as f:\n",
      "    for line in f:\n",
      "        obj = json.loads(line)\n",
      "        bi = base64.b64decode(obj['speech'])\n",
      "        with open(\"mp3/{}.mp3\".format(obj['sentid']), 'w') as o:\n",
      "            o.write(bi)"
     ],
     "language": "python",
     "metadata": {},
     "outputs": [],
     "prompt_number": 7
    },
    {
     "cell_type": "code",
     "collapsed": false,
     "input": [
      "data = json.load(open(\"dataset.json\"))"
     ],
     "language": "python",
     "metadata": {},
     "outputs": [],
     "prompt_number": 8
    },
    {
     "cell_type": "code",
     "collapsed": false,
     "input": [
      "data.keys()"
     ],
     "language": "python",
     "metadata": {},
     "outputs": [
      {
       "metadata": {},
       "output_type": "pyout",
       "prompt_number": 9,
       "text": [
        "[u'images', u'dataset']"
       ]
      }
     ],
     "prompt_number": 9
    },
    {
     "cell_type": "code",
     "collapsed": false,
     "input": [
      "data['images'][0]"
     ],
     "language": "python",
     "metadata": {},
     "outputs": [
      {
       "metadata": {},
       "output_type": "pyout",
       "prompt_number": 11,
       "text": [
        "{u'cocoid': 391895,\n",
        " u'filename': u'COCO_val2014_000000391895.jpg',\n",
        " u'filepath': u'val2014',\n",
        " u'imgid': 0,\n",
        " u'sentences': [{u'imgid': 0,\n",
        "   u'raw': u'A man with a red helmet on a small moped on a dirt road. ',\n",
        "   u'sentid': 770337,\n",
        "   u'tokens': [u'a',\n",
        "    u'man',\n",
        "    u'with',\n",
        "    u'a',\n",
        "    u'red',\n",
        "    u'helmet',\n",
        "    u'on',\n",
        "    u'a',\n",
        "    u'small',\n",
        "    u'moped',\n",
        "    u'on',\n",
        "    u'a',\n",
        "    u'dirt',\n",
        "    u'road']},\n",
        "  {u'imgid': 0,\n",
        "   u'raw': u'Man riding a motor bike on a dirt road on the countryside.',\n",
        "   u'sentid': 771687,\n",
        "   u'tokens': [u'man',\n",
        "    u'riding',\n",
        "    u'a',\n",
        "    u'motor',\n",
        "    u'bike',\n",
        "    u'on',\n",
        "    u'a',\n",
        "    u'dirt',\n",
        "    u'road',\n",
        "    u'on',\n",
        "    u'the',\n",
        "    u'countryside']},\n",
        "  {u'imgid': 0,\n",
        "   u'raw': u'A man riding on the back of a motorcycle.',\n",
        "   u'sentid': 772707,\n",
        "   u'tokens': [u'a',\n",
        "    u'man',\n",
        "    u'riding',\n",
        "    u'on',\n",
        "    u'the',\n",
        "    u'back',\n",
        "    u'of',\n",
        "    u'a',\n",
        "    u'motorcycle']},\n",
        "  {u'imgid': 0,\n",
        "   u'raw': u'A dirt path with a young person on a motor bike rests to the foreground of a verdant area with a bridge and a background of cloud-wreathed mountains. ',\n",
        "   u'sentid': 776154,\n",
        "   u'tokens': [u'a',\n",
        "    u'dirt',\n",
        "    u'path',\n",
        "    u'with',\n",
        "    u'a',\n",
        "    u'young',\n",
        "    u'person',\n",
        "    u'on',\n",
        "    u'a',\n",
        "    u'motor',\n",
        "    u'bike',\n",
        "    u'rests',\n",
        "    u'to',\n",
        "    u'the',\n",
        "    u'foreground',\n",
        "    u'of',\n",
        "    u'a',\n",
        "    u'verdant',\n",
        "    u'area',\n",
        "    u'with',\n",
        "    u'a',\n",
        "    u'bridge',\n",
        "    u'and',\n",
        "    u'a',\n",
        "    u'background',\n",
        "    u'of',\n",
        "    u'cloud',\n",
        "    u'wreathed',\n",
        "    u'mountains']},\n",
        "  {u'imgid': 0,\n",
        "   u'raw': u'A man in a red shirt and a red hat is on a motorcycle on a hill side.',\n",
        "   u'sentid': 781998,\n",
        "   u'tokens': [u'a',\n",
        "    u'man',\n",
        "    u'in',\n",
        "    u'a',\n",
        "    u'red',\n",
        "    u'shirt',\n",
        "    u'and',\n",
        "    u'a',\n",
        "    u'red',\n",
        "    u'hat',\n",
        "    u'is',\n",
        "    u'on',\n",
        "    u'a',\n",
        "    u'motorcycle',\n",
        "    u'on',\n",
        "    u'a',\n",
        "    u'hill',\n",
        "    u'side']}],\n",
        " u'sentids': [770337, 771687, 772707, 776154, 781998],\n",
        " u'split': u'test'}"
       ]
      }
     ],
     "prompt_number": 11
    },
    {
     "cell_type": "code",
     "collapsed": false,
     "input": [
      "captions = {}\n",
      "for image in data['images']:\n",
      "    for sentence in image['sentences']:\n",
      "        captions[sentence['sentid']] = sentence['raw']\n",
      "        \n"
     ],
     "language": "python",
     "metadata": {},
     "outputs": [],
     "prompt_number": 12
    },
    {
     "cell_type": "code",
     "collapsed": false,
     "input": [
      "captions[48]"
     ],
     "language": "python",
     "metadata": {},
     "outputs": [
      {
       "metadata": {},
       "output_type": "pyout",
       "prompt_number": 13,
       "text": [
        "u'A very clean and well decorated empty bathroom'"
       ]
      }
     ],
     "prompt_number": 13
    },
    {
     "cell_type": "code",
     "collapsed": false,
     "input": [
      "captions[3871]"
     ],
     "language": "python",
     "metadata": {},
     "outputs": [
      {
       "metadata": {},
       "output_type": "pyout",
       "prompt_number": 15,
       "text": [
        "u'A group of people playing a game of croquet.'"
       ]
      }
     ],
     "prompt_number": 15
    },
    {
     "cell_type": "code",
     "collapsed": false,
     "input": [],
     "language": "python",
     "metadata": {},
     "outputs": []
    }
   ],
   "metadata": {}
  }
 ]
}