{
 "metadata": {
  "name": "",
  "signature": "sha256:8c0b357888e8baae7c203f29cef326f59ff62b434944b29ce11c5304d733bdfa"
 },
 "nbformat": 3,
 "nbformat_minor": 0,
 "worksheets": [
  {
   "cells": [
    {
     "cell_type": "code",
     "collapsed": false,
     "input": [
      "import scipy.io.wavfile as wav\n",
      "import csv\n",
      "import numpy\n",
      "import imaginet.tts\n",
      "import python_speech_features as features"
     ],
     "language": "python",
     "metadata": {},
     "outputs": [
      {
       "output_type": "stream",
       "stream": "stderr",
       "text": [
        "Using gpu device 0: GeForce GTX 980 Ti (CNMeM is disabled, cuDNN 5005)\n"
       ]
      }
     ],
     "prompt_number": 1
    },
    {
     "cell_type": "code",
     "collapsed": false,
     "input": [
      "wavmap = list(csv.reader(open(\"flickr_audio/wav2capt.txt\"), delimiter=' '))"
     ],
     "language": "python",
     "metadata": {},
     "outputs": [],
     "prompt_number": 24
    },
    {
     "cell_type": "code",
     "collapsed": false,
     "input": [
      "import time\n",
      "import timeout_decorator\n",
      "\n",
      "@timeout_decorator.timeout(5)\n",
      "def readwav(f):\n",
      "    return wav.read(f)\n",
      "\n",
      "def feats(path):\n",
      "    try:\n",
      "        (rate,sig) = readwav(open(\"flickr_audio/wavs/{}\".format(path)))\n",
      "    except timeout_decorator.TimeoutError:\n",
      "        print \"Timed out {}\".format(path)\n",
      "        rate = 16000\n",
      "        sig = numpy.zeros(10)\n",
      "    return features.mfcc(sig, rate)"
     ],
     "language": "python",
     "metadata": {},
     "outputs": [],
     "prompt_number": 55
    },
    {
     "cell_type": "code",
     "collapsed": false,
     "input": [
      "for i in range(0,40):\n",
      "    print i\n",
      "    mfcc = numpy.array([  feats(item[0]) for item in wavmap[i*1000:i*1000+1000] ])\n",
      "    numpy.save(\"/home/gchrupala/repos/reimaginet/data/flickr8k/dataset.human.mfcc.{}.npy\".format(i), mfcc)\n",
      "        "
     ],
     "language": "python",
     "metadata": {},
     "outputs": [
      {
       "output_type": "stream",
       "stream": "stdout",
       "text": [
        "20\n",
        "Timed out 2865703567_52de2444f2_0.wav"
       ]
      },
      {
       "output_type": "stream",
       "stream": "stdout",
       "text": [
        "\n",
        "21"
       ]
      },
      {
       "output_type": "stream",
       "stream": "stdout",
       "text": [
        "\n",
        "22"
       ]
      },
      {
       "output_type": "stream",
       "stream": "stdout",
       "text": [
        "\n",
        "23"
       ]
      },
      {
       "output_type": "stream",
       "stream": "stdout",
       "text": [
        "\n",
        "24"
       ]
      },
      {
       "output_type": "stream",
       "stream": "stdout",
       "text": [
        "\n",
        "25"
       ]
      },
      {
       "output_type": "stream",
       "stream": "stdout",
       "text": [
        "\n",
        "26"
       ]
      },
      {
       "output_type": "stream",
       "stream": "stdout",
       "text": [
        "\n",
        "27"
       ]
      },
      {
       "output_type": "stream",
       "stream": "stdout",
       "text": [
        "\n",
        "28"
       ]
      },
      {
       "output_type": "stream",
       "stream": "stdout",
       "text": [
        "\n",
        "29"
       ]
      },
      {
       "output_type": "stream",
       "stream": "stdout",
       "text": [
        "\n",
        "30"
       ]
      },
      {
       "output_type": "stream",
       "stream": "stdout",
       "text": [
        "\n",
        "31"
       ]
      },
      {
       "output_type": "stream",
       "stream": "stdout",
       "text": [
        "\n",
        "32"
       ]
      },
      {
       "output_type": "stream",
       "stream": "stdout",
       "text": [
        "\n",
        "33"
       ]
      },
      {
       "output_type": "stream",
       "stream": "stdout",
       "text": [
        "\n",
        "34"
       ]
      },
      {
       "output_type": "stream",
       "stream": "stdout",
       "text": [
        "\n",
        "35"
       ]
      },
      {
       "output_type": "stream",
       "stream": "stdout",
       "text": [
        "\n",
        "36"
       ]
      },
      {
       "output_type": "stream",
       "stream": "stdout",
       "text": [
        "\n",
        "37"
       ]
      },
      {
       "output_type": "stream",
       "stream": "stdout",
       "text": [
        "\n",
        "38"
       ]
      },
      {
       "output_type": "stream",
       "stream": "stdout",
       "text": [
        "\n",
        "39"
       ]
      },
      {
       "output_type": "stream",
       "stream": "stdout",
       "text": [
        "\n"
       ]
      }
     ],
     "prompt_number": 56
    },
    {
     "cell_type": "code",
     "collapsed": false,
     "input": [
      "mfcc = numpy.hstack([ numpy.load(\"dataset.human.mfcc.{}.npy\".format(i)) for i in range(0, 40) ])"
     ],
     "language": "python",
     "metadata": {},
     "outputs": [],
     "prompt_number": 66
    },
    {
     "cell_type": "code",
     "collapsed": false,
     "input": [
      "numpy.save(\"/home/gchrupala/repos/reimaginet/data/flickr8k/dataset.human.mfcc.npy\", mfcc)"
     ],
     "language": "python",
     "metadata": {},
     "outputs": [],
     "prompt_number": 67
    },
    {
     "cell_type": "code",
     "collapsed": false,
     "input": [
      "size = [row.shape[0] for row in mfcc]"
     ],
     "language": "python",
     "metadata": {},
     "outputs": [],
     "prompt_number": 72
    },
    {
     "cell_type": "code",
     "collapsed": false,
     "input": [
      "numpy.mean(size)"
     ],
     "language": "python",
     "metadata": {},
     "outputs": [
      {
       "metadata": {},
       "output_type": "pyout",
       "prompt_number": 73,
       "text": [
        "412.11077499999999"
       ]
      }
     ],
     "prompt_number": 73
    },
    {
     "cell_type": "code",
     "collapsed": false,
     "input": [
      "numpy.median(size)"
     ],
     "language": "python",
     "metadata": {},
     "outputs": [
      {
       "metadata": {},
       "output_type": "pyout",
       "prompt_number": 74,
       "text": [
        "389.0"
       ]
      }
     ],
     "prompt_number": 74
    },
    {
     "cell_type": "code",
     "collapsed": false,
     "input": [
      "numpy.min(size)"
     ],
     "language": "python",
     "metadata": {},
     "outputs": [
      {
       "metadata": {},
       "output_type": "pyout",
       "prompt_number": 75,
       "text": [
        "1"
       ]
      }
     ],
     "prompt_number": 75
    },
    {
     "cell_type": "code",
     "collapsed": false,
     "input": [
      "numpy.max(size)"
     ],
     "language": "python",
     "metadata": {},
     "outputs": [
      {
       "metadata": {},
       "output_type": "pyout",
       "prompt_number": 76,
       "text": [
        "32350"
       ]
      }
     ],
     "prompt_number": 76
    },
    {
     "cell_type": "code",
     "collapsed": false,
     "input": [
      "mfcc = numpy.hstack([ numpy.load(\"dataset.human.mfcc.{}.npy\".format(i))[:3000] for i in range(0, 40) ])\n",
      "numpy.save(\"/home/gchrupala/repos/reimaginet/data/flickr8k/dataset.human.max3K.mfcc.npy\", mfcc)"
     ],
     "language": "python",
     "metadata": {},
     "outputs": [],
     "prompt_number": 77
    },
    {
     "cell_type": "code",
     "collapsed": false,
     "input": [],
     "language": "python",
     "metadata": {},
     "outputs": [
      {
       "metadata": {},
       "output_type": "pyout",
       "prompt_number": 84,
       "text": [
        "39997"
       ]
      }
     ],
     "prompt_number": 84
    },
    {
     "cell_type": "code",
     "collapsed": false,
     "input": [
      "import imaginet.data_provider as dp"
     ],
     "language": "python",
     "metadata": {},
     "outputs": [],
     "prompt_number": 85
    },
    {
     "cell_type": "code",
     "collapsed": false,
     "input": [
      "prov = dp.getDataProvider('flickr8k', root='/home/gchrupala/reimaginet/', audio_kind=None)"
     ],
     "language": "python",
     "metadata": {},
     "outputs": [
      {
       "output_type": "stream",
       "stream": "stderr",
       "text": [
        "Could not read file /home/gchrupala/reimaginet/data/flickr8k/dataset.ipa.jsonl.gz: IPA transcription not available\n",
        "Could not read file /home/gchrupala/reimaginet/data/flickr8k/dataset.None.npy: audio features not available\n"
       ]
      }
     ],
     "prompt_number": 88
    },
    {
     "cell_type": "code",
     "collapsed": false,
     "input": [
      "prov.dataset['images'][0]['filename']"
     ],
     "language": "python",
     "metadata": {},
     "outputs": [
      {
       "metadata": {},
       "output_type": "pyout",
       "prompt_number": 91,
       "text": [
        "u'2513260012_03d33305cf.jpg'"
       ]
      }
     ],
     "prompt_number": 91
    },
    {
     "cell_type": "code",
     "collapsed": false,
     "input": [
      "import csv"
     ],
     "language": "python",
     "metadata": {},
     "outputs": [],
     "prompt_number": 92
    },
    {
     "cell_type": "code",
     "collapsed": false,
     "input": [
      "wav2cap = numpy.array(list(csv.reader(open(\"flickr_audio/wav2capt.txt\"), delimiter=' ')))"
     ],
     "language": "python",
     "metadata": {},
     "outputs": [],
     "prompt_number": 101
    },
    {
     "cell_type": "code",
     "collapsed": false,
     "input": [
      "wav2cap"
     ],
     "language": "python",
     "metadata": {},
     "outputs": [
      {
       "metadata": {},
       "output_type": "pyout",
       "prompt_number": 102,
       "text": [
        "array([['2571096893_694ce79768_1.wav', '2571096893_694ce79768.jpg', '#1'],\n",
        "       ['2571096893_694ce79768_2.wav', '2571096893_694ce79768.jpg', '#2'],\n",
        "       ['2570559405_dc93007f76_4.wav', '2570559405_dc93007f76.jpg', '#4'],\n",
        "       ..., \n",
        "       ['534669139_1a4f8ab9d5_3.wav', '534669139_1a4f8ab9d5.jpg', '#3'],\n",
        "       ['534875358_6ea30d3091_1.wav', '534875358_6ea30d3091.jpg', '#1'],\n",
        "       ['534875358_6ea30d3091_0.wav', '534875358_6ea30d3091.jpg', '#0']], \n",
        "      dtype='|S27')"
       ]
      }
     ],
     "prompt_number": 102
    },
    {
     "cell_type": "code",
     "collapsed": false,
     "input": [
      "cap2wav = {}\n",
      "for row in wav2cap:\n",
      "    cap2wav[row[1]+row[2]] = row[0]"
     ],
     "language": "python",
     "metadata": {},
     "outputs": [],
     "prompt_number": 106
    },
    {
     "cell_type": "code",
     "collapsed": false,
     "input": [
      "cap2text = dict(list(csv.reader(open(\"Flickr8k.token.txt\"), delimiter='\\t')))"
     ],
     "language": "python",
     "metadata": {},
     "outputs": [],
     "prompt_number": 107
    },
    {
     "cell_type": "code",
     "collapsed": false,
     "input": [
      "wav2ID = dict([ (w,i) for (i,w) in enumerate(wav2cap[:,0]) ])"
     ],
     "language": "python",
     "metadata": {},
     "outputs": [],
     "prompt_number": 111
    },
    {
     "cell_type": "code",
     "collapsed": false,
     "input": [
      "# Check consistency\n",
      "for img in prov.dataset['images']:\n",
      "    for (i,sent) in enumerate(img['sentences']):\n",
      "        cap = \"{}#{}\".format(img['filename'],i)\n",
      "        if cap2text[cap] != sent['raw']:\n",
      "            print cap2text[cap], sent['raw']\n",
      "        else:\n",
      "            pass\n",
      "        "
     ],
     "language": "python",
     "metadata": {},
     "outputs": [],
     "prompt_number": 117
    },
    {
     "cell_type": "code",
     "collapsed": false,
     "input": [
      "def genmfcc():\n",
      "    for img in prov.dataset['images']:\n",
      "        for (i,sent) in enumerate(img['sentences']):\n",
      "            cap = \"{}#{}\".format(img['filename'],i)\n",
      "            yield mfcc[wav2ID[cap2wav[cap]]]"
     ],
     "language": "python",
     "metadata": {},
     "outputs": [],
     "prompt_number": 119
    },
    {
     "cell_type": "code",
     "collapsed": false,
     "input": [
      "MFCC = numpy.array(list(genmfcc()))"
     ],
     "language": "python",
     "metadata": {},
     "outputs": [],
     "prompt_number": 120
    },
    {
     "cell_type": "code",
     "collapsed": false,
     "input": [
      "numpy.save(\"/home/gchrupala/repos/reimaginet/data/flickr8k/dataset.human.max3K.ord.mfcc.npy\", MFCC)"
     ],
     "language": "python",
     "metadata": {},
     "outputs": [],
     "prompt_number": 124
    },
    {
     "cell_type": "code",
     "collapsed": false,
     "input": [
      "import scipy"
     ],
     "language": "python",
     "metadata": {},
     "outputs": [],
     "prompt_number": 125
    },
    {
     "cell_type": "code",
     "collapsed": false,
     "input": [
      "sent = [s for img in prov.dataset['images'] for s in img['sentences'] ]\n",
      "scipy.stats.pearsonr([len(row) for row in MFCC], [ len(s['raw']) for s in sent ])"
     ],
     "language": "python",
     "metadata": {},
     "outputs": [
      {
       "metadata": {},
       "output_type": "pyout",
       "prompt_number": 131,
       "text": [
        "(0.47461496238223072, 0.0)"
       ]
      }
     ],
     "prompt_number": 131
    },
    {
     "cell_type": "code",
     "collapsed": false,
     "input": [
      "scipy.stats.pearsonr([len(row) for row in mfcc], [ len(s['raw']) for s in sent ])"
     ],
     "language": "python",
     "metadata": {},
     "outputs": [
      {
       "metadata": {},
       "output_type": "pyout",
       "prompt_number": 132,
       "text": [
        "(-0.003074679304299016, 0.53860881075333633)"
       ]
      }
     ],
     "prompt_number": 132
    },
    {
     "cell_type": "code",
     "collapsed": false,
     "input": [
      "numpy.save(\"/home/gchrupala/repos/reimaginet/data/flickr8k/dataset.human.max1K.ord.mfcc.npy\", \n",
      "           numpy.array([row[:1000] for row in MFCC]))"
     ],
     "language": "python",
     "metadata": {},
     "outputs": [],
     "prompt_number": 133
    },
    {
     "cell_type": "markdown",
     "metadata": {},
     "source": [
      "First dimension is the log of frame energy. Indices 1-12 correspond to cepstral coeffs."
     ]
    },
    {
     "cell_type": "code",
     "collapsed": false,
     "input": [
      "numpy.hstack([MFCC[0],MFCC[0]]).shape"
     ],
     "language": "python",
     "metadata": {},
     "outputs": [
      {
       "metadata": {},
       "output_type": "pyout",
       "prompt_number": 200,
       "text": [
        "(306, 26)"
       ]
      }
     ],
     "prompt_number": 200
    },
    {
     "cell_type": "markdown",
     "metadata": {},
     "source": [
      "### Delta coefficients\n",
      "\n",
      "![](http://www.practicalcryptography.com/media/latex/542b8743573ec3ff3ddbfd965512d484bc1a1818-11pt.png)"
     ]
    },
    {
     "cell_type": "code",
     "collapsed": false,
     "input": [
      "def delta(v, N=2, offset=1):\n",
      "    d = numpy.zeros_like(v[:, offset:])\n",
      "    for t in range(0, d.shape[0]):\n",
      "        Z = 2 * sum(n**2 for n in range(1, N+1))\n",
      "        d[t,:] = sum(n * (v[min(t+n, v.shape[0]-1), offset:]-v[max(t-n, 0), offset:]) for n in range(1,N+1)) / Z\n",
      "    return d"
     ],
     "language": "python",
     "metadata": {},
     "outputs": [],
     "prompt_number": 33
    },
    {
     "cell_type": "code",
     "collapsed": false,
     "input": [
      "def add_delta(data):\n",
      "    return numpy.array( [ numpy.hstack([row, delta(row,N=2, offset=1)]) for row in data ])\n",
      "def add_accel(data):\n",
      "    return numpy.array( [ numpy.hstack([row, delta(row, N=2, offset=1), delta(delta(row, N=2, offset=1), offset=0)]) for row in data ])"
     ],
     "language": "python",
     "metadata": {},
     "outputs": [],
     "prompt_number": 34
    },
    {
     "cell_type": "code",
     "collapsed": false,
     "input": [
      "data = numpy.load(\"/home/gchrupala/repos/reimaginet/data/flickr8k/dataset.human.max1K.ord.mfcc.npy\")\n",
      "numpy.save(\"/home/gchrupala/repos/reimaginet/data/flickr8k/dataset.human.max1K.delta3.ord.mfcc.npy\", add_delta(data))\n",
      "numpy.save(\"/home/gchrupala/repos/reimaginet/data/flickr8k/dataset.human.max1K.accel3.ord.mfcc.npy\", add_accel(data))"
     ],
     "language": "python",
     "metadata": {},
     "outputs": [],
     "prompt_number": 35
    },
    {
     "cell_type": "code",
     "collapsed": false,
     "input": [
      "accel2 = numpy.load(\"/home/gchrupala/repos/reimaginet/data/flickr8k/dataset.human.max1K.accel2.ord.mfcc.npy\")"
     ],
     "language": "python",
     "metadata": {},
     "outputs": [],
     "prompt_number": 11
    },
    {
     "cell_type": "code",
     "collapsed": false,
     "input": [
      "accel2[0].shape"
     ],
     "language": "python",
     "metadata": {},
     "outputs": [
      {
       "metadata": {},
       "output_type": "pyout",
       "prompt_number": 12,
       "text": [
        "(306, 39)"
       ]
      }
     ],
     "prompt_number": 12
    },
    {
     "cell_type": "code",
     "collapsed": false,
     "input": [
      "a = numpy.zeros((5,5))"
     ],
     "language": "python",
     "metadata": {},
     "outputs": [],
     "prompt_number": 9
    },
    {
     "cell_type": "code",
     "collapsed": false,
     "input": [
      "a"
     ],
     "language": "python",
     "metadata": {},
     "outputs": [
      {
       "metadata": {},
       "output_type": "pyout",
       "prompt_number": 10,
       "text": [
        "array([[ 0.,  0.,  0.,  0.,  0.],\n",
        "       [ 0.,  0.,  0.,  0.,  0.],\n",
        "       [ 0.,  0.,  0.,  0.,  0.],\n",
        "       [ 0.,  0.,  0.,  0.,  0.],\n",
        "       [ 0.,  0.,  0.,  0.,  0.]])"
       ]
      }
     ],
     "prompt_number": 10
    },
    {
     "cell_type": "code",
     "collapsed": false,
     "input": [
      "b = numpy.ones((5,3))"
     ],
     "language": "python",
     "metadata": {},
     "outputs": [],
     "prompt_number": 11
    },
    {
     "cell_type": "code",
     "collapsed": false,
     "input": [
      "a[:,:1]"
     ],
     "language": "python",
     "metadata": {},
     "outputs": [
      {
       "metadata": {},
       "output_type": "pyout",
       "prompt_number": 13,
       "text": [
        "array([[ 0.],\n",
        "       [ 0.],\n",
        "       [ 0.],\n",
        "       [ 0.],\n",
        "       [ 0.]])"
       ]
      }
     ],
     "prompt_number": 13
    },
    {
     "cell_type": "code",
     "collapsed": false,
     "input": [
      "delta(data[0])"
     ],
     "language": "python",
     "metadata": {},
     "outputs": [
      {
       "metadata": {},
       "output_type": "pyout",
       "prompt_number": 32,
       "text": [
        "array([[ 0.61958529, -0.2840682 , -1.53657403, ..., -1.42725674,\n",
        "        -0.14426044, -2.76910033],\n",
        "       [ 1.01140882,  0.05759722, -1.42712091, ..., -2.0242593 ,\n",
        "         1.27695695, -2.68136078],\n",
        "       [ 0.3469407 ,  1.1368279 ,  0.56448641, ..., -2.60394163,\n",
        "         2.15386007, -1.74528471],\n",
        "       ..., \n",
        "       [-2.04674055,  1.4516821 ,  2.85773237, ..., -3.41858184,\n",
        "         3.78537138, -2.74750143],\n",
        "       [-0.94632305,  1.30881118,  2.54623265, ..., -5.04907538,\n",
        "         2.2213168 , -0.92555301],\n",
        "       [-0.34780258,  0.33054613,  1.70352806, ..., -4.09286694,\n",
        "         0.85026177, -0.04489378]])"
       ]
      }
     ],
     "prompt_number": 32
    },
    {
     "cell_type": "code",
     "collapsed": false,
     "input": [],
     "language": "python",
     "metadata": {},
     "outputs": []
    }
   ],
   "metadata": {}
  }
 ]
}