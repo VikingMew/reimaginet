{
 "cells": [
  {
   "cell_type": "code",
   "execution_count": 29,
   "metadata": {
    "collapsed": false
   },
   "outputs": [],
   "source": [
    "import numpy\n",
    "import imaginet.data_provider as dp\n",
    "import imaginet.driver\n",
    "from funktional.util import grouper\n",
    "from imaginet.tokens import tokenize\n",
    "from imaginet.models import predictor_v\n",
    "from scipy.spatial.distance import cosine"
   ]
  },
  {
   "cell_type": "code",
   "execution_count": 6,
   "metadata": {
    "collapsed": false
   },
   "outputs": [],
   "source": [
    "prov = dp.getDataProvider('coco', root='/home/gchrupala/repos/reimaginet')\n",
    "sents = list(prov.iterSentences(split='val')) + list(prov.iterSentences(split='restval'))"
   ]
  },
  {
   "cell_type": "code",
   "execution_count": 8,
   "metadata": {
    "collapsed": true
   },
   "outputs": [],
   "source": [
    "modeldir = \"/home/gchrupala/repos/reimaginet/run-104-repro/\"\n",
    "M = imaginet.driver.load(modeldir, model_name='model.6.pkl.gz')"
   ]
  },
  {
   "cell_type": "code",
   "execution_count": 33,
   "metadata": {
    "collapsed": true
   },
   "outputs": [],
   "source": [
    "import json\n",
    "rows = [ json.loads(line) for line in open(\"crowd/job_886896_meta.json\")]"
   ]
  },
  {
   "cell_type": "code",
   "execution_count": 13,
   "metadata": {
    "collapsed": false
   },
   "outputs": [],
   "source": [
    "batcher = M['batcher']\n",
    "mapper = batcher.mapper\n",
    "scaler = M['scaler']\n",
    "model = M['model']\n",
    "predict_v = predictor_v(model)\n",
    "batch_size=64"
   ]
  },
  {
   "cell_type": "code",
   "execution_count": 16,
   "metadata": {
    "collapsed": false
   },
   "outputs": [],
   "source": [
    "inputs = list(mapper.transform([tokenize(sent['data']['desc']) for sent in rows ]))\n",
    "preds = numpy.vstack([ predict_v(batcher.batch_inp(batch))\n",
    "               for batch in grouper(inputs, batch_size) ])"
   ]
  },
  {
   "cell_type": "code",
   "execution_count": 86,
   "metadata": {
    "collapsed": false
   },
   "outputs": [],
   "source": [
    "img_fs = {}\n",
    "for img in prov.iterImages(split='val'):\n",
    "    img_fs[img['cocoid']] = scaler.transform([ img['feat'] ])[0]\n",
    "for img in prov.iterImages(split='test'):\n",
    "    img_fs[img['cocoid']] = scaler.transform([ img['feat'] ])[0]\n",
    "for img in prov.iterImages(split='restval'):\n",
    "    img_fs[img['cocoid']] = scaler.transform([ img['feat'] ])[0]"
   ]
  },
  {
   "cell_type": "code",
   "execution_count": 112,
   "metadata": {
    "collapsed": false
   },
   "outputs": [],
   "source": [
    "def features(cocoid):\n",
    "    if cocoid in img_fs:\n",
    "        return img_fs[cocoid]\n",
    "    else:\n",
    "        raise KeyError(cocoid)\n",
    "\n",
    "def evaluate(M, rows):\n",
    "    batcher = M['batcher']\n",
    "    mapper = batcher.mapper\n",
    "    scaler = M['scaler']\n",
    "    model = M['model']\n",
    "    predict_v = predictor_v(model)\n",
    "    batch_size=64\n",
    "    def response(row):\n",
    "        inputs = list(mapper.transform([tokenize(row['data']['desc']) ]))\n",
    "        pred = predict_v(batcher.batch_inp(inputs))[0]\n",
    "        return 1+numpy.argmin([ cosine(pred, features(cocoid)) for cocoid in row['meta']['candidates']])\n",
    "    preds = numpy.array([ response(row) for row in rows ])\n",
    "    target = numpy.array([ row['meta']['response'] for row in rows])\n",
    "    return numpy.mean(preds==target)"
   ]
  },
  {
   "cell_type": "code",
   "execution_count": 113,
   "metadata": {
    "collapsed": false
   },
   "outputs": [
    {
     "data": {
      "text/plain": [
       "0.83577712609970678"
      ]
     },
     "execution_count": 113,
     "metadata": {},
     "output_type": "execute_result"
    }
   ],
   "source": [
    "evaluate(M, rows)"
   ]
  },
  {
   "cell_type": "code",
   "execution_count": 115,
   "metadata": {
    "collapsed": false
   },
   "outputs": [
    {
     "name": "stdout",
     "output_type": "stream",
     "text": [
      "1 0.800586510264\n",
      "2 0.809384164223\n",
      "3 0.821114369501\n",
      "4 0.82991202346\n",
      "5 0.838709677419\n",
      "6 0.8357771261\n"
     ]
    }
   ],
   "source": [
    "for i in range(1,7):\n",
    "    modeldir = \"/home/gchrupala/repos/reimaginet/run-104-repro/\"\n",
    "    M = imaginet.driver.load(modeldir, model_name='model.{}.pkl.gz'.format(i))\n",
    "    print i, evaluate(M, rows)"
   ]
  },
  {
   "cell_type": "code",
   "execution_count": null,
   "metadata": {
    "collapsed": true
   },
   "outputs": [],
   "source": []
  }
 ],
 "metadata": {
  "kernelspec": {
   "display_name": "Python 2",
   "language": "python",
   "name": "python2"
  },
  "language_info": {
   "codemirror_mode": {
    "name": "ipython",
    "version": 2
   },
   "file_extension": ".py",
   "mimetype": "text/x-python",
   "name": "python",
   "nbconvert_exporter": "python",
   "pygments_lexer": "ipython2",
   "version": "2.7.9"
  }
 },
 "nbformat": 4,
 "nbformat_minor": 0
}
