{
 "cells": [
  {
   "cell_type": "code",
   "execution_count": 1,
   "metadata": {
    "collapsed": false
   },
   "outputs": [
    {
     "name": "stdout",
     "output_type": "stream",
     "text": [
      "Couldn't import dot_parser, loading of dot files will not be possible.\n"
     ]
    },
    {
     "name": "stderr",
     "output_type": "stream",
     "text": [
      "Using gpu device 0: Tesla K20m\n"
     ]
    }
   ],
   "source": [
    "import numpy\n",
    "import imaginet.data_provider as dp\n",
    "import imaginet.driver\n",
    "from funktional.util import grouper\n",
    "from imaginet.tokens import tokenize\n",
    "from imaginet.models import predictor_v\n",
    "from scipy.spatial.distance import cosine\n",
    "from imaginet.simple_data import phonemes"
   ]
  },
  {
   "cell_type": "code",
   "execution_count": 6,
   "metadata": {
    "collapsed": false
   },
   "outputs": [],
   "source": [
    "prov = dp.getDataProvider('coco', root='/home/gchrupala/repos/reimaginet')\n",
    "sents = list(prov.iterSentences(split='val')) + list(prov.iterSentences(split='restval'))"
   ]
  },
  {
   "cell_type": "code",
   "execution_count": 8,
   "metadata": {
    "collapsed": true
   },
   "outputs": [],
   "source": [
    "modeldir = \"/home/gchrupala/repos/reimaginet/run-104-repro/\"\n",
    "M = imaginet.driver.load(modeldir, model_name='model.6.pkl.gz')"
   ]
  },
  {
   "cell_type": "code",
   "execution_count": 6,
   "metadata": {
    "collapsed": true
   },
   "outputs": [],
   "source": [
    "import json\n",
    "rows = [ json.loads(line) for line in open(\"crowd/job_886896_meta.json\")]"
   ]
  },
  {
   "cell_type": "code",
   "execution_count": 13,
   "metadata": {
    "collapsed": false
   },
   "outputs": [],
   "source": [
    "batcher = M['batcher']\n",
    "mapper = batcher.mapper\n",
    "scaler = M['scaler']\n",
    "model = M['model']\n",
    "predict_v = predictor_v(model)\n",
    "batch_size=64"
   ]
  },
  {
   "cell_type": "code",
   "execution_count": 16,
   "metadata": {
    "collapsed": false
   },
   "outputs": [],
   "source": [
    "inputs = list(mapper.transform([tokenize(sent['data']['desc']) for sent in rows ]))\n",
    "preds = numpy.vstack([ predict_v(batcher.batch_inp(batch))\n",
    "               for batch in grouper(inputs, batch_size) ])"
   ]
  },
  {
   "cell_type": "code",
   "execution_count": 7,
   "metadata": {
    "collapsed": false
   },
   "outputs": [
    {
     "ename": "NameError",
     "evalue": "name 'scaler' is not defined",
     "output_type": "error",
     "traceback": [
      "\u001b[1;31m---------------------------------------------------------------------------\u001b[0m",
      "\u001b[1;31mNameError\u001b[0m                                 Traceback (most recent call last)",
      "\u001b[1;32m<ipython-input-7-ce981a90ffc5>\u001b[0m in \u001b[0;36m<module>\u001b[1;34m()\u001b[0m\n\u001b[0;32m      1\u001b[0m \u001b[0mimg_fs\u001b[0m \u001b[1;33m=\u001b[0m \u001b[1;33m{\u001b[0m\u001b[1;33m}\u001b[0m\u001b[1;33m\u001b[0m\u001b[0m\n\u001b[0;32m      2\u001b[0m \u001b[1;32mfor\u001b[0m \u001b[0mimg\u001b[0m \u001b[1;32min\u001b[0m \u001b[0mprov\u001b[0m\u001b[1;33m.\u001b[0m\u001b[0miterImages\u001b[0m\u001b[1;33m(\u001b[0m\u001b[0msplit\u001b[0m\u001b[1;33m=\u001b[0m\u001b[1;34m'val'\u001b[0m\u001b[1;33m)\u001b[0m\u001b[1;33m:\u001b[0m\u001b[1;33m\u001b[0m\u001b[0m\n\u001b[1;32m----> 3\u001b[1;33m     \u001b[0mimg_fs\u001b[0m\u001b[1;33m[\u001b[0m\u001b[0mimg\u001b[0m\u001b[1;33m[\u001b[0m\u001b[1;34m'cocoid'\u001b[0m\u001b[1;33m]\u001b[0m\u001b[1;33m]\u001b[0m \u001b[1;33m=\u001b[0m \u001b[0mscaler\u001b[0m\u001b[1;33m.\u001b[0m\u001b[0mtransform\u001b[0m\u001b[1;33m(\u001b[0m\u001b[1;33m[\u001b[0m \u001b[0mimg\u001b[0m\u001b[1;33m[\u001b[0m\u001b[1;34m'feat'\u001b[0m\u001b[1;33m]\u001b[0m \u001b[1;33m]\u001b[0m\u001b[1;33m)\u001b[0m\u001b[1;33m[\u001b[0m\u001b[1;36m0\u001b[0m\u001b[1;33m]\u001b[0m\u001b[1;33m\u001b[0m\u001b[0m\n\u001b[0m\u001b[0;32m      4\u001b[0m \u001b[1;32mfor\u001b[0m \u001b[0mimg\u001b[0m \u001b[1;32min\u001b[0m \u001b[0mprov\u001b[0m\u001b[1;33m.\u001b[0m\u001b[0miterImages\u001b[0m\u001b[1;33m(\u001b[0m\u001b[0msplit\u001b[0m\u001b[1;33m=\u001b[0m\u001b[1;34m'test'\u001b[0m\u001b[1;33m)\u001b[0m\u001b[1;33m:\u001b[0m\u001b[1;33m\u001b[0m\u001b[0m\n\u001b[0;32m      5\u001b[0m     \u001b[0mimg_fs\u001b[0m\u001b[1;33m[\u001b[0m\u001b[0mimg\u001b[0m\u001b[1;33m[\u001b[0m\u001b[1;34m'cocoid'\u001b[0m\u001b[1;33m]\u001b[0m\u001b[1;33m]\u001b[0m \u001b[1;33m=\u001b[0m \u001b[0mscaler\u001b[0m\u001b[1;33m.\u001b[0m\u001b[0mtransform\u001b[0m\u001b[1;33m(\u001b[0m\u001b[1;33m[\u001b[0m \u001b[0mimg\u001b[0m\u001b[1;33m[\u001b[0m\u001b[1;34m'feat'\u001b[0m\u001b[1;33m]\u001b[0m \u001b[1;33m]\u001b[0m\u001b[1;33m)\u001b[0m\u001b[1;33m[\u001b[0m\u001b[1;36m0\u001b[0m\u001b[1;33m]\u001b[0m\u001b[1;33m\u001b[0m\u001b[0m\n",
      "\u001b[1;31mNameError\u001b[0m: name 'scaler' is not defined"
     ]
    }
   ],
   "source": [
    "img_fs = {}\n",
    "for img in prov.iterImages(split='val'):\n",
    "    img_fs[img['cocoid']] = scaler.transform([ img['feat'] ])[0]\n",
    "for img in prov.iterImages(split='test'):\n",
    "    img_fs[img['cocoid']] = scaler.transform([ img['feat'] ])[0]\n",
    "for img in prov.iterImages(split='restval'):\n",
    "    img_fs[img['cocoid']] = scaler.transform([ img['feat'] ])[0]"
   ]
  },
  {
   "cell_type": "code",
   "execution_count": 52,
   "metadata": {
    "collapsed": false
   },
   "outputs": [],
   "source": [
    "def features(cocoid):\n",
    "    if cocoid in img_fs:\n",
    "        return img_fs[cocoid]\n",
    "    else:\n",
    "        raise KeyError(cocoid)\n",
    "\n",
    "def evaluate_old(M, rows):\n",
    "    batcher = M['batcher']\n",
    "    mapper = batcher.mapper\n",
    "    scaler = M['scaler']\n",
    "    model = M['model']\n",
    "    predict_v = predictor_v(model)\n",
    "    batch_size=64\n",
    "    def response(row):\n",
    "        inputs = list(mapper.transform([tokenize(row['data']['desc']) ]))\n",
    "        pred = predict_v(batcher.batch_inp(inputs))[0]\n",
    "        return 1+numpy.argmin([ cosine(pred, features(cocoid)) for cocoid in row['meta']['candidates']])\n",
    "    preds = numpy.array([ response(row) for row in rows ])\n",
    "    target = numpy.array([ row['meta']['response'] for row in rows])\n",
    "    return numpy.mean(preds==target)\n",
    "\n",
    "def evaluate(model, rows):\n",
    "    scaler = model.scaler\n",
    "    batcher = model.batcher\n",
    "    mapper = batcher.mapper\n",
    "    img_fs = {}\n",
    "    sent_ids = {}\n",
    "    prov = dp.getDataProvider('coco', root='/home/gchrupala/repos/reimaginet')\n",
    "    for split in ['val','test','restval']:\n",
    "        for img in prov.iterImages(split=split):\n",
    "            img_fs[img['cocoid']] = scaler.transform([ img['feat'] ])[0]\n",
    "            for sent in img['sentences']:\n",
    "                sent_ids[sent['sentid']]=sent\n",
    "    def response(row):\n",
    "        sent = sent_ids[row['meta']['id']]\n",
    "        inputs = list(mapper.transform([phonemes(sent) ]))\n",
    "        pred = model.Visual.predict(batcher.batch_inp(inputs))[0]\n",
    "        return 1+numpy.argmin([ cosine(pred, img_fs[cocoid]) for cocoid in row['meta']['candidates']])\n",
    "    preds = numpy.array([ response(row) for row in rows ])\n",
    "    target = numpy.array([ row['meta']['response'] for row in rows])\n",
    "    return numpy.mean(preds==target)"
   ]
  },
  {
   "cell_type": "code",
   "execution_count": 53,
   "metadata": {
    "collapsed": false
   },
   "outputs": [
    {
     "name": "stdout",
     "output_type": "stream",
     "text": [
      "1 0.439882697947\n",
      "2 0.674486803519\n",
      "3 0.736070381232\n",
      "4 0.765395894428\n",
      "5 0.759530791789\n",
      "6 0.74780058651\n"
     ]
    }
   ],
   "source": [
    "import imaginet.defn.visual as visual\n",
    "for i in range(1,7):\n",
    "    modeldir = \"/home/gchrupala/repos/reimaginet/run-1001-ipa/model.{}.zip\".format(i)\n",
    "    model = visual.load(path=modeldir)\n",
    "    print i, evaluate(model, rows)"
   ]
  },
  {
   "cell_type": "code",
   "execution_count": 54,
   "metadata": {
    "collapsed": false
   },
   "outputs": [
    {
     "name": "stdout",
     "output_type": "stream",
     "text": [
      "7 0.765395894428\n",
      "8 0.765395894428\n",
      "9 0.74780058651\n"
     ]
    }
   ],
   "source": [
    "for i in range(7,10):\n",
    "    modeldir = \"/home/gchrupala/repos/reimaginet/run-1001-ipa/model.{}.zip\".format(i)\n",
    "    model = visual.load(path=modeldir)\n",
    "    print i, evaluate(model, rows)"
   ]
  },
  {
   "cell_type": "code",
   "execution_count": 50,
   "metadata": {
    "collapsed": false
   },
   "outputs": [],
   "source": [
    "import imaginet.defn.visual as visual\n",
    "reload(visual)\n",
    "modeldir = \"/home/gchrupala/repos/reimaginet/run-1001-ipa/model.9.zip\"\n",
    "model = visual.load(path=modeldir)"
   ]
  },
  {
   "cell_type": "code",
   "execution_count": 51,
   "metadata": {
    "collapsed": false
   },
   "outputs": [],
   "source": [
    "inputs = list(model.batcher.mapper.transform([phonemes(sents[0])]))"
   ]
  },
  {
   "cell_type": "code",
   "execution_count": 52,
   "metadata": {
    "collapsed": false
   },
   "outputs": [],
   "source": [
    "task = model.Visual"
   ]
  },
  {
   "cell_type": "code",
   "execution_count": 53,
   "metadata": {
    "collapsed": false
   },
   "outputs": [
    {
     "name": "stdout",
     "output_type": "stream",
     "text": [
      "ɐtʃaɪldhəʊldɪŋɐflaʊədʌmbɹɛləandpɛtɪŋɐjak\n"
     ]
    }
   ],
   "source": [
    "print ''.join([ ph for ph in phonemes(sents[0]) if ph != '*' ])"
   ]
  },
  {
   "cell_type": "code",
   "execution_count": 56,
   "metadata": {
    "collapsed": false
   },
   "outputs": [
    {
     "data": {
      "text/plain": [
       "(47, 1024)"
      ]
     },
     "execution_count": 56,
     "metadata": {},
     "output_type": "execute_result"
    }
   ],
   "source": [
    "visual.states(model, phonemes(sents[0])).shape"
   ]
  },
  {
   "cell_type": "code",
   "execution_count": null,
   "metadata": {
    "collapsed": true
   },
   "outputs": [],
   "source": []
  }
 ],
 "metadata": {
  "kernelspec": {
   "display_name": "Python 2",
   "language": "python",
   "name": "python2"
  },
  "language_info": {
   "codemirror_mode": {
    "name": "ipython",
    "version": 2
   },
   "file_extension": ".py",
   "mimetype": "text/x-python",
   "name": "python",
   "nbconvert_exporter": "python",
   "pygments_lexer": "ipython2",
   "version": "2.7.9"
  }
 },
 "nbformat": 4,
 "nbformat_minor": 0
}
